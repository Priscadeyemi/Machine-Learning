{
 "cells": [
  {
   "cell_type": "code",
   "execution_count": 1,
   "id": "e8ef78d0",
   "metadata": {},
   "outputs": [],
   "source": [
    "import numpy as np\n",
    "import pandas as pd\n",
    "import matplotlib.pyplot as plt\n",
    "import seaborn as sns\n",
    "import plotly.express as px\n",
    "from sklearn.model_selection import train_test_split\n",
    "from sklearn.preprocessing import StandardScaler, LabelEncoder\n",
    "from sklearn.linear_model import LinearRegression, Lasso, Ridge, ElasticNet\n",
    "from sklearn.tree import DecisionTreeRegressor\n",
    "from sklearn.svm import SVR\n",
    "from sklearn.ensemble import RandomForestRegressor\n",
    "from sklearn.neural_network import MLPRegressor\n",
    "from sklearn.metrics import r2_score, mean_absolute_error, mean_absolute_percentage_error, mean_squared_error\n",
    "from sklearn.feature_selection import mutual_info_classif, mutual_info_regression"
   ]
  },
  {
   "cell_type": "code",
   "execution_count": 2,
   "id": "47d6d2e6",
   "metadata": {},
   "outputs": [
    {
     "data": {
      "text/html": [
       "<div>\n",
       "<style scoped>\n",
       "    .dataframe tbody tr th:only-of-type {\n",
       "        vertical-align: middle;\n",
       "    }\n",
       "\n",
       "    .dataframe tbody tr th {\n",
       "        vertical-align: top;\n",
       "    }\n",
       "\n",
       "    .dataframe thead th {\n",
       "        text-align: right;\n",
       "    }\n",
       "</style>\n",
       "<table border=\"1\" class=\"dataframe\">\n",
       "  <thead>\n",
       "    <tr style=\"text-align: right;\">\n",
       "      <th></th>\n",
       "      <th>Phone Name</th>\n",
       "      <th>Rating ?/5</th>\n",
       "      <th>Number of Ratings</th>\n",
       "      <th>RAM</th>\n",
       "      <th>ROM/Storage</th>\n",
       "      <th>Back/Rare Camera</th>\n",
       "      <th>Front Camera</th>\n",
       "      <th>Battery</th>\n",
       "      <th>Processor</th>\n",
       "      <th>Price in INR</th>\n",
       "      <th>Date of Scraping</th>\n",
       "    </tr>\n",
       "  </thead>\n",
       "  <tbody>\n",
       "    <tr>\n",
       "      <th>0</th>\n",
       "      <td>POCO C50 (Royal Blue, 32 GB)</td>\n",
       "      <td>4.2</td>\n",
       "      <td>33,561</td>\n",
       "      <td>2 GB RAM</td>\n",
       "      <td>32 GB ROM</td>\n",
       "      <td>8MP Dual Camera</td>\n",
       "      <td>5MP Front Camera</td>\n",
       "      <td>5000 mAh</td>\n",
       "      <td>Mediatek Helio A22 Processor, Upto 2.0 GHz Pro...</td>\n",
       "      <td>₹5,649</td>\n",
       "      <td>2023-06-17</td>\n",
       "    </tr>\n",
       "    <tr>\n",
       "      <th>1</th>\n",
       "      <td>POCO M4 5G (Cool Blue, 64 GB)</td>\n",
       "      <td>4.2</td>\n",
       "      <td>77,128</td>\n",
       "      <td>4 GB RAM</td>\n",
       "      <td>64 GB ROM</td>\n",
       "      <td>50MP + 2MP</td>\n",
       "      <td>8MP Front Camera</td>\n",
       "      <td>5000 mAh</td>\n",
       "      <td>Mediatek Dimensity 700 Processor</td>\n",
       "      <td>₹11,999</td>\n",
       "      <td>2023-06-17</td>\n",
       "    </tr>\n",
       "    <tr>\n",
       "      <th>2</th>\n",
       "      <td>POCO C51 (Royal Blue, 64 GB)</td>\n",
       "      <td>4.3</td>\n",
       "      <td>15,175</td>\n",
       "      <td>4 GB RAM</td>\n",
       "      <td>64 GB ROM</td>\n",
       "      <td>8MP Dual Rear Camera</td>\n",
       "      <td>5MP Front Camera</td>\n",
       "      <td>5000 mAh</td>\n",
       "      <td>Helio G36 Processor</td>\n",
       "      <td>₹6,999</td>\n",
       "      <td>2023-06-17</td>\n",
       "    </tr>\n",
       "    <tr>\n",
       "      <th>3</th>\n",
       "      <td>POCO C55 (Cool Blue, 64 GB)</td>\n",
       "      <td>4.2</td>\n",
       "      <td>22,621</td>\n",
       "      <td>4 GB RAM</td>\n",
       "      <td>64 GB ROM</td>\n",
       "      <td>50MP Dual Rear Camera</td>\n",
       "      <td>5MP Front Camera</td>\n",
       "      <td>5000 mAh</td>\n",
       "      <td>Mediatek Helio G85 Processor</td>\n",
       "      <td>₹7,749</td>\n",
       "      <td>2023-06-17</td>\n",
       "    </tr>\n",
       "    <tr>\n",
       "      <th>4</th>\n",
       "      <td>POCO C51 (Power Black, 64 GB)</td>\n",
       "      <td>4.3</td>\n",
       "      <td>15,175</td>\n",
       "      <td>4 GB RAM</td>\n",
       "      <td>64 GB ROM</td>\n",
       "      <td>8MP Dual Rear Camera</td>\n",
       "      <td>5MP Front Camera</td>\n",
       "      <td>5000 mAh</td>\n",
       "      <td>Helio G36 Processor</td>\n",
       "      <td>₹6,999</td>\n",
       "      <td>2023-06-17</td>\n",
       "    </tr>\n",
       "  </tbody>\n",
       "</table>\n",
       "</div>"
      ],
      "text/plain": [
       "                      Phone Name  Rating ?/5 Number of Ratings       RAM  \\\n",
       "0   POCO C50 (Royal Blue, 32 GB)         4.2            33,561  2 GB RAM   \n",
       "1  POCO M4 5G (Cool Blue, 64 GB)         4.2            77,128  4 GB RAM   \n",
       "2   POCO C51 (Royal Blue, 64 GB)         4.3            15,175  4 GB RAM   \n",
       "3    POCO C55 (Cool Blue, 64 GB)         4.2            22,621  4 GB RAM   \n",
       "4  POCO C51 (Power Black, 64 GB)         4.3            15,175  4 GB RAM   \n",
       "\n",
       "  ROM/Storage       Back/Rare Camera      Front Camera   Battery  \\\n",
       "0   32 GB ROM        8MP Dual Camera  5MP Front Camera  5000 mAh   \n",
       "1   64 GB ROM             50MP + 2MP  8MP Front Camera  5000 mAh   \n",
       "2   64 GB ROM   8MP Dual Rear Camera  5MP Front Camera  5000 mAh   \n",
       "3   64 GB ROM  50MP Dual Rear Camera  5MP Front Camera  5000 mAh   \n",
       "4   64 GB ROM   8MP Dual Rear Camera  5MP Front Camera  5000 mAh   \n",
       "\n",
       "                                           Processor Price in INR  \\\n",
       "0  Mediatek Helio A22 Processor, Upto 2.0 GHz Pro...       ₹5,649   \n",
       "1                   Mediatek Dimensity 700 Processor      ₹11,999   \n",
       "2                                Helio G36 Processor       ₹6,999   \n",
       "3                       Mediatek Helio G85 Processor       ₹7,749   \n",
       "4                                Helio G36 Processor       ₹6,999   \n",
       "\n",
       "  Date of Scraping  \n",
       "0       2023-06-17  \n",
       "1       2023-06-17  \n",
       "2       2023-06-17  \n",
       "3       2023-06-17  \n",
       "4       2023-06-17  "
      ]
     },
     "execution_count": 2,
     "metadata": {},
     "output_type": "execute_result"
    }
   ],
   "source": [
    "\n",
    "df=pd.read_csv(\"mobile_prices_2023.csv\")\n",
    "df.head()"
   ]
  },
  {
   "cell_type": "code",
   "execution_count": 3,
   "id": "5ff04165",
   "metadata": {},
   "outputs": [
    {
     "data": {
      "text/plain": [
       "Phone Name             0\n",
       "Rating ?/5             0\n",
       "Number of Ratings      0\n",
       "RAM                    0\n",
       "ROM/Storage          174\n",
       "Back/Rare Camera       9\n",
       "Front Camera         401\n",
       "Battery               10\n",
       "Processor             55\n",
       "Price in INR           0\n",
       "Date of Scraping       0\n",
       "dtype: int64"
      ]
     },
     "execution_count": 3,
     "metadata": {},
     "output_type": "execute_result"
    }
   ],
   "source": [
    "df.isnull().sum()"
   ]
  },
  {
   "cell_type": "code",
   "execution_count": 4,
   "id": "a3202c37",
   "metadata": {},
   "outputs": [
    {
     "data": {
      "text/plain": [
       "(1836, 11)"
      ]
     },
     "execution_count": 4,
     "metadata": {},
     "output_type": "execute_result"
    }
   ],
   "source": [
    "df.shape"
   ]
  },
  {
   "cell_type": "code",
   "execution_count": 5,
   "id": "e9bcd5c4",
   "metadata": {},
   "outputs": [
    {
     "name": "stdout",
     "output_type": "stream",
     "text": [
      "<class 'pandas.core.frame.DataFrame'>\n",
      "RangeIndex: 1836 entries, 0 to 1835\n",
      "Data columns (total 11 columns):\n",
      " #   Column             Non-Null Count  Dtype  \n",
      "---  ------             --------------  -----  \n",
      " 0   Phone Name         1836 non-null   object \n",
      " 1   Rating ?/5         1836 non-null   float64\n",
      " 2   Number of Ratings  1836 non-null   object \n",
      " 3   RAM                1836 non-null   object \n",
      " 4   ROM/Storage        1662 non-null   object \n",
      " 5   Back/Rare Camera   1827 non-null   object \n",
      " 6   Front Camera       1435 non-null   object \n",
      " 7   Battery            1826 non-null   object \n",
      " 8   Processor          1781 non-null   object \n",
      " 9   Price in INR       1836 non-null   object \n",
      " 10  Date of Scraping   1836 non-null   object \n",
      "dtypes: float64(1), object(10)\n",
      "memory usage: 157.9+ KB\n"
     ]
    }
   ],
   "source": [
    "df.info()"
   ]
  },
  {
   "cell_type": "code",
   "execution_count": 6,
   "id": "874bd95d",
   "metadata": {},
   "outputs": [],
   "source": [
    "## mode is used to fill categorical columns"
   ]
  },
  {
   "cell_type": "code",
   "execution_count": 7,
   "id": "f37912fc",
   "metadata": {},
   "outputs": [
    {
     "data": {
      "text/html": [
       "<div>\n",
       "<style scoped>\n",
       "    .dataframe tbody tr th:only-of-type {\n",
       "        vertical-align: middle;\n",
       "    }\n",
       "\n",
       "    .dataframe tbody tr th {\n",
       "        vertical-align: top;\n",
       "    }\n",
       "\n",
       "    .dataframe thead th {\n",
       "        text-align: right;\n",
       "    }\n",
       "</style>\n",
       "<table border=\"1\" class=\"dataframe\">\n",
       "  <thead>\n",
       "    <tr style=\"text-align: right;\">\n",
       "      <th></th>\n",
       "      <th>Phone Name</th>\n",
       "      <th>Rating ?/5</th>\n",
       "      <th>Number of Ratings</th>\n",
       "      <th>RAM</th>\n",
       "      <th>ROM/Storage</th>\n",
       "      <th>Back/Rare Camera</th>\n",
       "      <th>Front Camera</th>\n",
       "      <th>Battery</th>\n",
       "      <th>Processor</th>\n",
       "      <th>Price in INR</th>\n",
       "      <th>Date of Scraping</th>\n",
       "    </tr>\n",
       "  </thead>\n",
       "  <tbody>\n",
       "    <tr>\n",
       "      <th>0</th>\n",
       "      <td>POCO C50 (Royal Blue, 32 GB)</td>\n",
       "      <td>4.2</td>\n",
       "      <td>33,561</td>\n",
       "      <td>2 GB RAM</td>\n",
       "      <td>32 GB ROM</td>\n",
       "      <td>8MP Dual Camera</td>\n",
       "      <td>5MP Front Camera</td>\n",
       "      <td>5000 mAh</td>\n",
       "      <td>Mediatek Helio A22 Processor, Upto 2.0 GHz Pro...</td>\n",
       "      <td>₹5,649</td>\n",
       "      <td>2023-06-17</td>\n",
       "    </tr>\n",
       "    <tr>\n",
       "      <th>1</th>\n",
       "      <td>POCO M4 5G (Cool Blue, 64 GB)</td>\n",
       "      <td>4.2</td>\n",
       "      <td>77,128</td>\n",
       "      <td>4 GB RAM</td>\n",
       "      <td>64 GB ROM</td>\n",
       "      <td>50MP + 2MP</td>\n",
       "      <td>8MP Front Camera</td>\n",
       "      <td>5000 mAh</td>\n",
       "      <td>Mediatek Dimensity 700 Processor</td>\n",
       "      <td>₹11,999</td>\n",
       "      <td>2023-06-17</td>\n",
       "    </tr>\n",
       "    <tr>\n",
       "      <th>2</th>\n",
       "      <td>POCO C51 (Royal Blue, 64 GB)</td>\n",
       "      <td>4.3</td>\n",
       "      <td>15,175</td>\n",
       "      <td>4 GB RAM</td>\n",
       "      <td>64 GB ROM</td>\n",
       "      <td>8MP Dual Rear Camera</td>\n",
       "      <td>5MP Front Camera</td>\n",
       "      <td>5000 mAh</td>\n",
       "      <td>Helio G36 Processor</td>\n",
       "      <td>₹6,999</td>\n",
       "      <td>2023-06-17</td>\n",
       "    </tr>\n",
       "    <tr>\n",
       "      <th>3</th>\n",
       "      <td>POCO C55 (Cool Blue, 64 GB)</td>\n",
       "      <td>4.2</td>\n",
       "      <td>22,621</td>\n",
       "      <td>4 GB RAM</td>\n",
       "      <td>64 GB ROM</td>\n",
       "      <td>50MP Dual Rear Camera</td>\n",
       "      <td>5MP Front Camera</td>\n",
       "      <td>5000 mAh</td>\n",
       "      <td>Mediatek Helio G85 Processor</td>\n",
       "      <td>₹7,749</td>\n",
       "      <td>2023-06-17</td>\n",
       "    </tr>\n",
       "    <tr>\n",
       "      <th>4</th>\n",
       "      <td>POCO C51 (Power Black, 64 GB)</td>\n",
       "      <td>4.3</td>\n",
       "      <td>15,175</td>\n",
       "      <td>4 GB RAM</td>\n",
       "      <td>64 GB ROM</td>\n",
       "      <td>8MP Dual Rear Camera</td>\n",
       "      <td>5MP Front Camera</td>\n",
       "      <td>5000 mAh</td>\n",
       "      <td>Helio G36 Processor</td>\n",
       "      <td>₹6,999</td>\n",
       "      <td>2023-06-17</td>\n",
       "    </tr>\n",
       "  </tbody>\n",
       "</table>\n",
       "</div>"
      ],
      "text/plain": [
       "                      Phone Name  Rating ?/5 Number of Ratings       RAM  \\\n",
       "0   POCO C50 (Royal Blue, 32 GB)         4.2            33,561  2 GB RAM   \n",
       "1  POCO M4 5G (Cool Blue, 64 GB)         4.2            77,128  4 GB RAM   \n",
       "2   POCO C51 (Royal Blue, 64 GB)         4.3            15,175  4 GB RAM   \n",
       "3    POCO C55 (Cool Blue, 64 GB)         4.2            22,621  4 GB RAM   \n",
       "4  POCO C51 (Power Black, 64 GB)         4.3            15,175  4 GB RAM   \n",
       "\n",
       "  ROM/Storage       Back/Rare Camera      Front Camera   Battery  \\\n",
       "0   32 GB ROM        8MP Dual Camera  5MP Front Camera  5000 mAh   \n",
       "1   64 GB ROM             50MP + 2MP  8MP Front Camera  5000 mAh   \n",
       "2   64 GB ROM   8MP Dual Rear Camera  5MP Front Camera  5000 mAh   \n",
       "3   64 GB ROM  50MP Dual Rear Camera  5MP Front Camera  5000 mAh   \n",
       "4   64 GB ROM   8MP Dual Rear Camera  5MP Front Camera  5000 mAh   \n",
       "\n",
       "                                           Processor Price in INR  \\\n",
       "0  Mediatek Helio A22 Processor, Upto 2.0 GHz Pro...       ₹5,649   \n",
       "1                   Mediatek Dimensity 700 Processor      ₹11,999   \n",
       "2                                Helio G36 Processor       ₹6,999   \n",
       "3                       Mediatek Helio G85 Processor       ₹7,749   \n",
       "4                                Helio G36 Processor       ₹6,999   \n",
       "\n",
       "  Date of Scraping  \n",
       "0       2023-06-17  \n",
       "1       2023-06-17  \n",
       "2       2023-06-17  \n",
       "3       2023-06-17  \n",
       "4       2023-06-17  "
      ]
     },
     "execution_count": 7,
     "metadata": {},
     "output_type": "execute_result"
    }
   ],
   "source": [
    "df=pd.read_csv(\"mobile_prices_2023.csv\")\n",
    "df.head()"
   ]
  },
  {
   "cell_type": "code",
   "execution_count": 8,
   "id": "ee05ee43",
   "metadata": {},
   "outputs": [],
   "source": [
    "## filling each of the missing value in numeric clolumns\n",
    "## categorical_data=df.select_dtypes(include=[\"int64\",\"float64\"])\n",
    "## for x in categorical_data:\n",
    "##    df[x].fillna(df[x].mean()[0],inplace=True)\n",
    "##df.isnull().sum()"
   ]
  },
  {
   "cell_type": "code",
   "execution_count": 9,
   "id": "34747b93",
   "metadata": {},
   "outputs": [
    {
     "name": "stdout",
     "output_type": "stream",
     "text": [
      "<class 'pandas.core.frame.DataFrame'>\n",
      "RangeIndex: 1836 entries, 0 to 1835\n",
      "Data columns (total 11 columns):\n",
      " #   Column             Non-Null Count  Dtype  \n",
      "---  ------             --------------  -----  \n",
      " 0   Phone Name         1836 non-null   object \n",
      " 1   Rating ?/5         1836 non-null   float64\n",
      " 2   Number of Ratings  1836 non-null   int64  \n",
      " 3   RAM                1836 non-null   object \n",
      " 4   ROM/Storage        1662 non-null   object \n",
      " 5   Back/Rare Camera   1827 non-null   object \n",
      " 6   Front Camera       1435 non-null   object \n",
      " 7   Battery            1826 non-null   object \n",
      " 8   Processor          1781 non-null   object \n",
      " 9   Price in INR       1836 non-null   int64  \n",
      " 10  Date of Scraping   1836 non-null   object \n",
      "dtypes: float64(1), int64(2), object(8)\n",
      "memory usage: 157.9+ KB\n"
     ]
    }
   ],
   "source": [
    "## removing punctuation marks\n",
    "df[\"Price in INR\"]= df[\"Price in INR\"].str.replace(\",\",\"\")\n",
    "df[\"Price in INR\"]= df[\"Price in INR\"].str.replace(\"₹\",\"\")\n",
    "df[\"Number of Ratings\"]= df[\"Number of Ratings\"].str.replace(\",\",\"\")\n",
    "df[\"Price in INR\"]= pd.to_numeric(df[\"Price in INR\"])\n",
    "df[\"Number of Ratings\"]= pd.to_numeric(df[\"Number of Ratings\"])\n",
    "df.info()"
   ]
  },
  {
   "cell_type": "code",
   "execution_count": 10,
   "id": "782c450f",
   "metadata": {},
   "outputs": [
    {
     "data": {
      "text/html": [
       "<div>\n",
       "<style scoped>\n",
       "    .dataframe tbody tr th:only-of-type {\n",
       "        vertical-align: middle;\n",
       "    }\n",
       "\n",
       "    .dataframe tbody tr th {\n",
       "        vertical-align: top;\n",
       "    }\n",
       "\n",
       "    .dataframe thead th {\n",
       "        text-align: right;\n",
       "    }\n",
       "</style>\n",
       "<table border=\"1\" class=\"dataframe\">\n",
       "  <thead>\n",
       "    <tr style=\"text-align: right;\">\n",
       "      <th></th>\n",
       "      <th>Phone Name</th>\n",
       "      <th>Rating ?/5</th>\n",
       "      <th>Number of Ratings</th>\n",
       "      <th>RAM</th>\n",
       "      <th>ROM/Storage</th>\n",
       "      <th>Back/Rare Camera</th>\n",
       "      <th>Front Camera</th>\n",
       "      <th>Battery</th>\n",
       "      <th>Processor</th>\n",
       "      <th>Price in INR</th>\n",
       "      <th>Date of Scraping</th>\n",
       "    </tr>\n",
       "  </thead>\n",
       "  <tbody>\n",
       "    <tr>\n",
       "      <th>0</th>\n",
       "      <td>POCO C50 (Royal Blue, 32 GB)</td>\n",
       "      <td>4.2</td>\n",
       "      <td>33561</td>\n",
       "      <td>2 GB RAM</td>\n",
       "      <td>32 GB ROM</td>\n",
       "      <td>8MP Dual Camera</td>\n",
       "      <td>5MP Front Camera</td>\n",
       "      <td>5000 mAh</td>\n",
       "      <td>Mediatek Helio A22 Processor, Upto 2.0 GHz Pro...</td>\n",
       "      <td>5649</td>\n",
       "      <td>2023-06-17</td>\n",
       "    </tr>\n",
       "    <tr>\n",
       "      <th>1</th>\n",
       "      <td>POCO M4 5G (Cool Blue, 64 GB)</td>\n",
       "      <td>4.2</td>\n",
       "      <td>77128</td>\n",
       "      <td>4 GB RAM</td>\n",
       "      <td>64 GB ROM</td>\n",
       "      <td>50MP + 2MP</td>\n",
       "      <td>8MP Front Camera</td>\n",
       "      <td>5000 mAh</td>\n",
       "      <td>Mediatek Dimensity 700 Processor</td>\n",
       "      <td>11999</td>\n",
       "      <td>2023-06-17</td>\n",
       "    </tr>\n",
       "    <tr>\n",
       "      <th>2</th>\n",
       "      <td>POCO C51 (Royal Blue, 64 GB)</td>\n",
       "      <td>4.3</td>\n",
       "      <td>15175</td>\n",
       "      <td>4 GB RAM</td>\n",
       "      <td>64 GB ROM</td>\n",
       "      <td>8MP Dual Rear Camera</td>\n",
       "      <td>5MP Front Camera</td>\n",
       "      <td>5000 mAh</td>\n",
       "      <td>Helio G36 Processor</td>\n",
       "      <td>6999</td>\n",
       "      <td>2023-06-17</td>\n",
       "    </tr>\n",
       "    <tr>\n",
       "      <th>3</th>\n",
       "      <td>POCO C55 (Cool Blue, 64 GB)</td>\n",
       "      <td>4.2</td>\n",
       "      <td>22621</td>\n",
       "      <td>4 GB RAM</td>\n",
       "      <td>64 GB ROM</td>\n",
       "      <td>50MP Dual Rear Camera</td>\n",
       "      <td>5MP Front Camera</td>\n",
       "      <td>5000 mAh</td>\n",
       "      <td>Mediatek Helio G85 Processor</td>\n",
       "      <td>7749</td>\n",
       "      <td>2023-06-17</td>\n",
       "    </tr>\n",
       "    <tr>\n",
       "      <th>4</th>\n",
       "      <td>POCO C51 (Power Black, 64 GB)</td>\n",
       "      <td>4.3</td>\n",
       "      <td>15175</td>\n",
       "      <td>4 GB RAM</td>\n",
       "      <td>64 GB ROM</td>\n",
       "      <td>8MP Dual Rear Camera</td>\n",
       "      <td>5MP Front Camera</td>\n",
       "      <td>5000 mAh</td>\n",
       "      <td>Helio G36 Processor</td>\n",
       "      <td>6999</td>\n",
       "      <td>2023-06-17</td>\n",
       "    </tr>\n",
       "  </tbody>\n",
       "</table>\n",
       "</div>"
      ],
      "text/plain": [
       "                      Phone Name  Rating ?/5  Number of Ratings       RAM  \\\n",
       "0   POCO C50 (Royal Blue, 32 GB)         4.2              33561  2 GB RAM   \n",
       "1  POCO M4 5G (Cool Blue, 64 GB)         4.2              77128  4 GB RAM   \n",
       "2   POCO C51 (Royal Blue, 64 GB)         4.3              15175  4 GB RAM   \n",
       "3    POCO C55 (Cool Blue, 64 GB)         4.2              22621  4 GB RAM   \n",
       "4  POCO C51 (Power Black, 64 GB)         4.3              15175  4 GB RAM   \n",
       "\n",
       "  ROM/Storage       Back/Rare Camera      Front Camera   Battery  \\\n",
       "0   32 GB ROM        8MP Dual Camera  5MP Front Camera  5000 mAh   \n",
       "1   64 GB ROM             50MP + 2MP  8MP Front Camera  5000 mAh   \n",
       "2   64 GB ROM   8MP Dual Rear Camera  5MP Front Camera  5000 mAh   \n",
       "3   64 GB ROM  50MP Dual Rear Camera  5MP Front Camera  5000 mAh   \n",
       "4   64 GB ROM   8MP Dual Rear Camera  5MP Front Camera  5000 mAh   \n",
       "\n",
       "                                           Processor  Price in INR  \\\n",
       "0  Mediatek Helio A22 Processor, Upto 2.0 GHz Pro...          5649   \n",
       "1                   Mediatek Dimensity 700 Processor         11999   \n",
       "2                                Helio G36 Processor          6999   \n",
       "3                       Mediatek Helio G85 Processor          7749   \n",
       "4                                Helio G36 Processor          6999   \n",
       "\n",
       "  Date of Scraping  \n",
       "0       2023-06-17  \n",
       "1       2023-06-17  \n",
       "2       2023-06-17  \n",
       "3       2023-06-17  \n",
       "4       2023-06-17  "
      ]
     },
     "execution_count": 10,
     "metadata": {},
     "output_type": "execute_result"
    }
   ],
   "source": [
    "df.head()"
   ]
  },
  {
   "cell_type": "code",
   "execution_count": 11,
   "id": "8502be05",
   "metadata": {},
   "outputs": [
    {
     "data": {
      "text/html": [
       "<div>\n",
       "<style scoped>\n",
       "    .dataframe tbody tr th:only-of-type {\n",
       "        vertical-align: middle;\n",
       "    }\n",
       "\n",
       "    .dataframe tbody tr th {\n",
       "        vertical-align: top;\n",
       "    }\n",
       "\n",
       "    .dataframe thead th {\n",
       "        text-align: right;\n",
       "    }\n",
       "</style>\n",
       "<table border=\"1\" class=\"dataframe\">\n",
       "  <thead>\n",
       "    <tr style=\"text-align: right;\">\n",
       "      <th></th>\n",
       "      <th>Phone Name</th>\n",
       "      <th>Rating ?/5</th>\n",
       "      <th>Number of Ratings</th>\n",
       "      <th>RAM</th>\n",
       "      <th>ROM/Storage</th>\n",
       "      <th>Back/Rare Camera</th>\n",
       "      <th>Front Camera</th>\n",
       "      <th>Battery</th>\n",
       "      <th>Processor</th>\n",
       "      <th>Price in INR</th>\n",
       "      <th>Date of Scraping</th>\n",
       "    </tr>\n",
       "  </thead>\n",
       "  <tbody>\n",
       "    <tr>\n",
       "      <th>0</th>\n",
       "      <td>746</td>\n",
       "      <td>4.2</td>\n",
       "      <td>33561</td>\n",
       "      <td>16</td>\n",
       "      <td>14</td>\n",
       "      <td>171</td>\n",
       "      <td>26</td>\n",
       "      <td>78</td>\n",
       "      <td>187</td>\n",
       "      <td>5649</td>\n",
       "      <td>0</td>\n",
       "    </tr>\n",
       "    <tr>\n",
       "      <th>1</th>\n",
       "      <td>789</td>\n",
       "      <td>4.2</td>\n",
       "      <td>77128</td>\n",
       "      <td>25</td>\n",
       "      <td>20</td>\n",
       "      <td>118</td>\n",
       "      <td>32</td>\n",
       "      <td>78</td>\n",
       "      <td>173</td>\n",
       "      <td>11999</td>\n",
       "      <td>0</td>\n",
       "    </tr>\n",
       "    <tr>\n",
       "      <th>2</th>\n",
       "      <td>748</td>\n",
       "      <td>4.3</td>\n",
       "      <td>15175</td>\n",
       "      <td>25</td>\n",
       "      <td>20</td>\n",
       "      <td>172</td>\n",
       "      <td>26</td>\n",
       "      <td>78</td>\n",
       "      <td>106</td>\n",
       "      <td>6999</td>\n",
       "      <td>0</td>\n",
       "    </tr>\n",
       "    <tr>\n",
       "      <th>3</th>\n",
       "      <td>750</td>\n",
       "      <td>4.2</td>\n",
       "      <td>22621</td>\n",
       "      <td>25</td>\n",
       "      <td>20</td>\n",
       "      <td>137</td>\n",
       "      <td>26</td>\n",
       "      <td>78</td>\n",
       "      <td>193</td>\n",
       "      <td>7749</td>\n",
       "      <td>0</td>\n",
       "    </tr>\n",
       "    <tr>\n",
       "      <th>4</th>\n",
       "      <td>747</td>\n",
       "      <td>4.3</td>\n",
       "      <td>15175</td>\n",
       "      <td>25</td>\n",
       "      <td>20</td>\n",
       "      <td>172</td>\n",
       "      <td>26</td>\n",
       "      <td>78</td>\n",
       "      <td>106</td>\n",
       "      <td>6999</td>\n",
       "      <td>0</td>\n",
       "    </tr>\n",
       "  </tbody>\n",
       "</table>\n",
       "</div>"
      ],
      "text/plain": [
       "   Phone Name  Rating ?/5  Number of Ratings  RAM  ROM/Storage  \\\n",
       "0         746         4.2              33561   16           14   \n",
       "1         789         4.2              77128   25           20   \n",
       "2         748         4.3              15175   25           20   \n",
       "3         750         4.2              22621   25           20   \n",
       "4         747         4.3              15175   25           20   \n",
       "\n",
       "   Back/Rare Camera  Front Camera  Battery  Processor  Price in INR  \\\n",
       "0               171            26       78        187          5649   \n",
       "1               118            32       78        173         11999   \n",
       "2               172            26       78        106          6999   \n",
       "3               137            26       78        193          7749   \n",
       "4               172            26       78        106          6999   \n",
       "\n",
       "   Date of Scraping  \n",
       "0                 0  \n",
       "1                 0  \n",
       "2                 0  \n",
       "3                 0  \n",
       "4                 0  "
      ]
     },
     "execution_count": 11,
     "metadata": {},
     "output_type": "execute_result"
    }
   ],
   "source": [
    "## covert categorical to numerical\n",
    "encoder=LabelEncoder()\n",
    "category=df.select_dtypes(include=[\"object\", \"category\"])\n",
    "for x in category:\n",
    "    df[x]= encoder.fit_transform(df[x])\n",
    "df.head()"
   ]
  },
  {
   "cell_type": "code",
   "execution_count": 12,
   "id": "e00230a0",
   "metadata": {
    "tags": []
   },
   "outputs": [],
   "source": [
    "## splitting the dataset between x and y, x(independent) which are multiple variable and y(dependent) which is only \n",
    "## one variable(price).\n",
    "x= df.drop([\"Price in INR\"], axis=1)\n",
    "y=df[\"Price in INR\"]"
   ]
  },
  {
   "cell_type": "code",
   "execution_count": 13,
   "id": "4c232435-755c-4f22-a9cd-311684a920c7",
   "metadata": {
    "tags": []
   },
   "outputs": [
    {
     "data": {
      "text/html": [
       "<div>\n",
       "<style scoped>\n",
       "    .dataframe tbody tr th:only-of-type {\n",
       "        vertical-align: middle;\n",
       "    }\n",
       "\n",
       "    .dataframe tbody tr th {\n",
       "        vertical-align: top;\n",
       "    }\n",
       "\n",
       "    .dataframe thead th {\n",
       "        text-align: right;\n",
       "    }\n",
       "</style>\n",
       "<table border=\"1\" class=\"dataframe\">\n",
       "  <thead>\n",
       "    <tr style=\"text-align: right;\">\n",
       "      <th></th>\n",
       "      <th>Phone Name</th>\n",
       "      <th>Rating ?/5</th>\n",
       "      <th>Number of Ratings</th>\n",
       "      <th>RAM</th>\n",
       "      <th>ROM/Storage</th>\n",
       "      <th>Back/Rare Camera</th>\n",
       "      <th>Front Camera</th>\n",
       "      <th>Battery</th>\n",
       "      <th>Processor</th>\n",
       "      <th>Date of Scraping</th>\n",
       "    </tr>\n",
       "  </thead>\n",
       "  <tbody>\n",
       "    <tr>\n",
       "      <th>0</th>\n",
       "      <td>746</td>\n",
       "      <td>4.2</td>\n",
       "      <td>33561</td>\n",
       "      <td>16</td>\n",
       "      <td>14</td>\n",
       "      <td>171</td>\n",
       "      <td>26</td>\n",
       "      <td>78</td>\n",
       "      <td>187</td>\n",
       "      <td>0</td>\n",
       "    </tr>\n",
       "    <tr>\n",
       "      <th>1</th>\n",
       "      <td>789</td>\n",
       "      <td>4.2</td>\n",
       "      <td>77128</td>\n",
       "      <td>25</td>\n",
       "      <td>20</td>\n",
       "      <td>118</td>\n",
       "      <td>32</td>\n",
       "      <td>78</td>\n",
       "      <td>173</td>\n",
       "      <td>0</td>\n",
       "    </tr>\n",
       "    <tr>\n",
       "      <th>2</th>\n",
       "      <td>748</td>\n",
       "      <td>4.3</td>\n",
       "      <td>15175</td>\n",
       "      <td>25</td>\n",
       "      <td>20</td>\n",
       "      <td>172</td>\n",
       "      <td>26</td>\n",
       "      <td>78</td>\n",
       "      <td>106</td>\n",
       "      <td>0</td>\n",
       "    </tr>\n",
       "    <tr>\n",
       "      <th>3</th>\n",
       "      <td>750</td>\n",
       "      <td>4.2</td>\n",
       "      <td>22621</td>\n",
       "      <td>25</td>\n",
       "      <td>20</td>\n",
       "      <td>137</td>\n",
       "      <td>26</td>\n",
       "      <td>78</td>\n",
       "      <td>193</td>\n",
       "      <td>0</td>\n",
       "    </tr>\n",
       "    <tr>\n",
       "      <th>4</th>\n",
       "      <td>747</td>\n",
       "      <td>4.3</td>\n",
       "      <td>15175</td>\n",
       "      <td>25</td>\n",
       "      <td>20</td>\n",
       "      <td>172</td>\n",
       "      <td>26</td>\n",
       "      <td>78</td>\n",
       "      <td>106</td>\n",
       "      <td>0</td>\n",
       "    </tr>\n",
       "  </tbody>\n",
       "</table>\n",
       "</div>"
      ],
      "text/plain": [
       "   Phone Name  Rating ?/5  Number of Ratings  RAM  ROM/Storage  \\\n",
       "0         746         4.2              33561   16           14   \n",
       "1         789         4.2              77128   25           20   \n",
       "2         748         4.3              15175   25           20   \n",
       "3         750         4.2              22621   25           20   \n",
       "4         747         4.3              15175   25           20   \n",
       "\n",
       "   Back/Rare Camera  Front Camera  Battery  Processor  Date of Scraping  \n",
       "0               171            26       78        187                 0  \n",
       "1               118            32       78        173                 0  \n",
       "2               172            26       78        106                 0  \n",
       "3               137            26       78        193                 0  \n",
       "4               172            26       78        106                 0  "
      ]
     },
     "execution_count": 13,
     "metadata": {},
     "output_type": "execute_result"
    }
   ],
   "source": [
    "x.head()"
   ]
  },
  {
   "cell_type": "code",
   "execution_count": 14,
   "id": "d0a76a80-43f7-4f05-b845-01ae3c42fe4f",
   "metadata": {
    "tags": []
   },
   "outputs": [
    {
     "data": {
      "text/plain": [
       "0     5649\n",
       "1    11999\n",
       "2     6999\n",
       "3     7749\n",
       "4     6999\n",
       "Name: Price in INR, dtype: int64"
      ]
     },
     "execution_count": 14,
     "metadata": {},
     "output_type": "execute_result"
    }
   ],
   "source": [
    "y.head()"
   ]
  },
  {
   "cell_type": "code",
   "execution_count": 15,
   "id": "8c1bb70b",
   "metadata": {},
   "outputs": [
    {
     "name": "stdout",
     "output_type": "stream",
     "text": [
      "Phone Name           0\n",
      "Rating ?/5           0\n",
      "Number of Ratings    0\n",
      "RAM                  0\n",
      "ROM/Storage          0\n",
      "Back/Rare Camera     0\n",
      "Front Camera         0\n",
      "Battery              0\n",
      "Processor            0\n",
      "Date of Scraping     0\n",
      "dtype: int64\n"
     ]
    }
   ],
   "source": [
    "print(x.isnull().sum())"
   ]
  },
  {
   "cell_type": "code",
   "execution_count": 16,
   "id": "d11bf040",
   "metadata": {},
   "outputs": [
    {
     "data": {
      "image/png": "[encoded data removed]",
      "text/plain": [
       "<Figure size 640x480 with 1 Axes>"
      ]
     },
     "metadata": {},
     "output_type": "display_data"
    }
   ],
   "source": [
    "from sklearn.feature_selection import mutual_info_classif, mutual_info_regression\n",
    "plt.style.use(\"ggplot\")\n",
    "importance= mutual_info_regression(x,y)\n",
    "feature_impo=pd.Series(importance,x.columns[0:len(x.columns)])\n",
    "feature_impo.plot(kind=\"barh\", color=\"blue\")\n",
    "plt.show()"
   ]
  },
  {
   "cell_type": "code",
   "execution_count": 17,
   "id": "db33db41",
   "metadata": {},
   "outputs": [],
   "source": [
    "## splitting the dataset into training and testing set\n",
    "xtrain, xtest, ytrain, ytest= train_test_split(x,y, test_size=0.2,random_state=1)"
   ]
  },
  {
   "cell_type": "code",
   "execution_count": 18,
   "id": "675c1ba7",
   "metadata": {
    "tags": []
   },
   "outputs": [
    {
     "data": {
      "text/html": [
       "<style>#sk-container-id-1 {color: black;}#sk-container-id-1 pre{padding: 0;}#sk-container-id-1 div.sk-toggleable {background-color: white;}#sk-container-id-1 label.sk-toggleable__label {cursor: pointer;display: block;width: 100%;margin-bottom: 0;padding: 0.3em;box-sizing: border-box;text-align: center;}#sk-container-id-1 label.sk-toggleable__label-arrow:before {content: \"▸\";float: left;margin-right: 0.25em;color: #696969;}#sk-container-id-1 label.sk-toggleable__label-arrow:hover:before {color: black;}#sk-container-id-1 div.sk-estimator:hover label.sk-toggleable__label-arrow:before {color: black;}#sk-container-id-1 div.sk-toggleable__content {max-height: 0;max-width: 0;overflow: hidden;text-align: left;background-color: #f0f8ff;}#sk-container-id-1 div.sk-toggleable__content pre {margin: 0.2em;color: black;border-radius: 0.25em;background-color: #f0f8ff;}#sk-container-id-1 input.sk-toggleable__control:checked~div.sk-toggleable__content {max-height: 200px;max-width: 100%;overflow: auto;}#sk-container-id-1 input.sk-toggleable__control:checked~label.sk-toggleable__label-arrow:before {content: \"▾\";}#sk-container-id-1 div.sk-estimator input.sk-toggleable__control:checked~label.sk-toggleable__label {background-color: #d4ebff;}#sk-container-id-1 div.sk-label input.sk-toggleable__control:checked~label.sk-toggleable__label {background-color: #d4ebff;}#sk-container-id-1 input.sk-hidden--visually {border: 0;clip: rect(1px 1px 1px 1px);clip: rect(1px, 1px, 1px, 1px);height: 1px;margin: -1px;overflow: hidden;padding: 0;position: absolute;width: 1px;}#sk-container-id-1 div.sk-estimator {font-family: monospace;background-color: #f0f8ff;border: 1px dotted black;border-radius: 0.25em;box-sizing: border-box;margin-bottom: 0.5em;}#sk-container-id-1 div.sk-estimator:hover {background-color: #d4ebff;}#sk-container-id-1 div.sk-parallel-item::after {content: \"\";width: 100%;border-bottom: 1px solid gray;flex-grow: 1;}#sk-container-id-1 div.sk-label:hover label.sk-toggleable__label {background-color: #d4ebff;}#sk-container-id-1 div.sk-serial::before {content: \"\";position: absolute;border-left: 1px solid gray;box-sizing: border-box;top: 0;bottom: 0;left: 50%;z-index: 0;}#sk-container-id-1 div.sk-serial {display: flex;flex-direction: column;align-items: center;background-color: white;padding-right: 0.2em;padding-left: 0.2em;position: relative;}#sk-container-id-1 div.sk-item {position: relative;z-index: 1;}#sk-container-id-1 div.sk-parallel {display: flex;align-items: stretch;justify-content: center;background-color: white;position: relative;}#sk-container-id-1 div.sk-item::before, #sk-container-id-1 div.sk-parallel-item::before {content: \"\";position: absolute;border-left: 1px solid gray;box-sizing: border-box;top: 0;bottom: 0;left: 50%;z-index: -1;}#sk-container-id-1 div.sk-parallel-item {display: flex;flex-direction: column;z-index: 1;position: relative;background-color: white;}#sk-container-id-1 div.sk-parallel-item:first-child::after {align-self: flex-end;width: 50%;}#sk-container-id-1 div.sk-parallel-item:last-child::after {align-self: flex-start;width: 50%;}#sk-container-id-1 div.sk-parallel-item:only-child::after {width: 0;}#sk-container-id-1 div.sk-dashed-wrapped {border: 1px dashed gray;margin: 0 0.4em 0.5em 0.4em;box-sizing: border-box;padding-bottom: 0.4em;background-color: white;}#sk-container-id-1 div.sk-label label {font-family: monospace;font-weight: bold;display: inline-block;line-height: 1.2em;}#sk-container-id-1 div.sk-label-container {text-align: center;}#sk-container-id-1 div.sk-container {/* jupyter's `normalize.less` sets `[hidden] { display: none; }` but bootstrap.min.css set `[hidden] { display: none !important; }` so we also need the `!important` here to be able to override the default hidden behavior on the sphinx rendered scikit-learn.org. See: https://github.com/scikit-learn/scikit-learn/issues/21755 */display: inline-block !important;position: relative;}#sk-container-id-1 div.sk-text-repr-fallback {display: none;}</style><div id=\"sk-container-id-1\" class=\"sk-top-container\"><div class=\"sk-text-repr-fallback\"><pre>Pipeline(steps=[(&#x27;Scaler&#x27;, StandardScaler()),\n",
       "                (&#x27;Regression&#x27;, LinearRegression())])</pre><b>In a Jupyter environment, please rerun this cell to show the HTML representation or trust the notebook. <br />On GitHub, the HTML representation is unable to render, please try loading this page with nbviewer.org.</b></div><div class=\"sk-container\" hidden><div class=\"sk-item sk-dashed-wrapped\"><div class=\"sk-label-container\"><div class=\"sk-label sk-toggleable\"><input class=\"sk-toggleable__control sk-hidden--visually\" id=\"sk-estimator-id-1\" type=\"checkbox\" ><label for=\"sk-estimator-id-1\" class=\"sk-toggleable__label sk-toggleable__label-arrow\">Pipeline</label><div class=\"sk-toggleable__content\"><pre>Pipeline(steps=[(&#x27;Scaler&#x27;, StandardScaler()),\n",
       "                (&#x27;Regression&#x27;, LinearRegression())])</pre></div></div></div><div class=\"sk-serial\"><div class=\"sk-item\"><div class=\"sk-estimator sk-toggleable\"><input class=\"sk-toggleable__control sk-hidden--visually\" id=\"sk-estimator-id-2\" type=\"checkbox\" ><label for=\"sk-estimator-id-2\" class=\"sk-toggleable__label sk-toggleable__label-arrow\">StandardScaler</label><div class=\"sk-toggleable__content\"><pre>StandardScaler()</pre></div></div></div><div class=\"sk-item\"><div class=\"sk-estimator sk-toggleable\"><input class=\"sk-toggleable__control sk-hidden--visually\" id=\"sk-estimator-id-3\" type=\"checkbox\" ><label for=\"sk-estimator-id-3\" class=\"sk-toggleable__label sk-toggleable__label-arrow\">LinearRegression</label><div class=\"sk-toggleable__content\"><pre>LinearRegression()</pre></div></div></div></div></div></div></div>"
      ],
      "text/plain": [
       "Pipeline(steps=[('Scaler', StandardScaler()),\n",
       "                ('Regression', LinearRegression())])"
      ]
     },
     "execution_count": 18,
     "metadata": {},
     "output_type": "execute_result"
    }
   ],
   "source": [
    "# bringing in our machine learning algorithm\n",
    "from sklearn.pipeline import Pipeline\n",
    "LinearModel=Pipeline([(\"Scaler\",StandardScaler()),(\"Regression\",LinearRegression())])\n",
    "LinearModel.fit(xtrain,ytrain)                                                   "
   ]
  },
  {
   "cell_type": "code",
   "execution_count": 19,
   "id": "14ddb9d5-8aa3-4484-81f2-1c74ec775a4b",
   "metadata": {
    "tags": []
   },
   "outputs": [
    {
     "data": {
      "text/plain": [
       "array([ 2.66153546e+04,  2.17674284e+04,  2.84404176e+04,  3.23683926e+03,\n",
       "        3.77470056e+04,  4.52889219e+03,  2.18821367e+04,  3.80466608e+04,\n",
       "        1.16724230e+04,  1.73364948e+04,  2.46745992e+04,  3.82745381e+04,\n",
       "        1.19448405e+04,  3.03685902e+04,  2.49655910e+02,  3.56493998e+04,\n",
       "        4.36846930e+04,  2.07334008e+04,  1.43632302e+04,  3.10973731e+04,\n",
       "        2.35170028e+04,  1.98327282e+04,  7.31735641e+04,  1.93778255e+04,\n",
       "       -2.06265194e+03,  2.98928667e+04,  7.11073237e+04,  2.57916810e+04,\n",
       "        2.36069081e+04,  3.61211215e+04,  2.44448568e+04,  2.94146738e+04,\n",
       "        1.25966156e+04,  6.86242925e+04,  9.80428857e+03, -1.23735473e+02,\n",
       "        2.47905495e+04,  1.52459263e+04,  1.99965135e+04,  1.93644443e+04,\n",
       "        6.94979863e+04,  2.16000539e+04,  1.07188759e+04,  1.19381500e+04,\n",
       "        2.14036280e+04,  2.32161950e+04,  2.25132541e+04,  1.63282539e+04,\n",
       "        1.78263599e+04,  1.63131068e+04,  2.89806553e+04,  1.98971502e+04,\n",
       "        1.86813529e+04,  1.31435364e+03,  1.94012023e+04,  2.42643757e+04,\n",
       "        2.90494398e+04,  1.02138850e+04,  1.40289130e+04,  1.33929589e+04,\n",
       "        5.96727796e+03,  2.60108362e+04,  2.11526886e+04,  7.93311167e+03,\n",
       "        3.02977091e+04,  1.40241468e+04,  8.63897344e+03,  1.86193087e+04,\n",
       "        3.61077403e+04,  2.85080655e+04,  2.54610336e+04,  1.64288665e+04,\n",
       "        1.27787303e+04,  7.27624150e+04,  2.36395949e+04,  1.81685510e+04,\n",
       "        1.97994419e+04,  2.46812898e+04,  7.54484159e+03,  2.87365989e+04,\n",
       "        9.54576551e+03,  3.23306175e+04,  1.21893501e+04,  2.54240964e+04,\n",
       "        2.46766823e+04,  1.17280385e+04,  1.90292969e+04,  3.27125894e+04,\n",
       "        1.17799445e+04,  2.72425707e+04,  3.68084339e+04,  6.62181478e+03,\n",
       "        1.56746126e+04,  2.27833350e+04,  1.85801858e+04,  1.08357302e+04,\n",
       "        1.83603587e+04,  2.74915626e+04,  1.28287325e+04, -2.41979946e+03,\n",
       "        1.95182259e+04,  2.04680787e+04,  2.03843976e+04,  9.58956204e+03,\n",
       "        3.41808926e+04,  1.42407494e+04,  6.86778172e+04,  2.30339203e+04,\n",
       "        2.33792543e+04,  1.67441780e+04,  2.43678460e+04,  2.63087445e+04,\n",
       "        2.00916705e+04,  6.12171743e+04,  1.21263275e+04,  9.58956204e+03,\n",
       "        1.91770788e+04,  3.01814866e+04,  6.78046011e+04,  1.31614012e+04,\n",
       "        1.36477998e+04,  3.78504203e+04,  3.12698128e+04,  4.80722186e+04,\n",
       "        2.34902405e+04,  2.21800231e+04,  2.86854419e+04,  2.35036216e+04,\n",
       "        2.30824714e+04,  3.01782255e+04,  1.36955582e+04, -2.74816292e+03,\n",
       "        1.27235632e+04,  1.56281831e+04,  3.77403150e+04,  2.11524299e+04,\n",
       "        1.19939014e+04,  3.01781598e+04,  1.87130422e+04,  7.11407767e+04,\n",
       "        5.96005529e+04,  1.23369490e+04,  9.54662135e+03,  8.75143079e+03,\n",
       "        1.94098196e+04,  2.85843350e+04, -1.33498585e+04,  8.65218535e+03,\n",
       "        2.35955914e+04,  2.33388862e+04,  1.07014787e+04, -1.12734464e+04,\n",
       "        1.97854619e+04,  1.28117087e+04,  2.55582422e+04,  1.38708590e+04,\n",
       "        7.15441550e+04,  2.42818550e+04,  1.93907675e+04,  2.18888273e+04,\n",
       "        1.91485377e+04,  1.64748576e+04,  1.08064944e+04,  1.75737926e+04,\n",
       "        2.18545112e+04,  1.73874420e+04,  3.18795022e+04,  2.87572077e+04,\n",
       "        1.17615401e+04,  1.60754319e+04,  1.64712538e+04,  3.30615349e+04,\n",
       "        2.98794855e+04,  8.07584146e+03,  2.87766325e+04,  1.94663848e+04,\n",
       "        1.72285043e+04,  2.85617701e+04,  2.33110334e+04,  7.11266071e+04,\n",
       "        1.68242849e+04,  1.18732979e+04,  1.31512730e+04, -1.83546325e+04,\n",
       "        2.71112955e+04,  5.44043870e+03,  2.02280446e+04,  6.01118728e+04,\n",
       "        2.80749522e+04,  2.12298525e+04,  6.42426040e+03,  1.01722250e+04,\n",
       "        1.77489284e+04,  1.55380825e+04,  2.15860394e+04,  5.34519442e+03,\n",
       "        2.22430660e+04,  3.60380014e+04,  2.46388946e+04,  2.30253250e+03,\n",
       "       -6.17108015e+00,  3.84655261e+04,  2.54174058e+04,  2.45315981e+04,\n",
       "        8.17741406e+03,  2.46214141e+04,  2.87572077e+04,  5.94370376e+04,\n",
       "        1.40817017e+04,  5.98267409e+03,  2.13621404e+04,  1.08588495e+04,\n",
       "        1.43655300e+04,  1.20435232e+04, -7.17063560e+02,  1.75797334e+04,\n",
       "        2.24860665e+04,  2.04090387e+04,  3.09244071e+04,  1.97314118e+04,\n",
       "        1.52338537e+04, -1.83546325e+04,  2.30422309e+04,  9.81097297e+03,\n",
       "        2.41232034e+04,  6.77912199e+04,  1.81195761e+04,  2.94351492e+04,\n",
       "        2.72945716e+04,  1.34546138e+04,  3.58483091e+04,  1.02210945e+04,\n",
       "        3.11107543e+04,  1.17650556e+04,  1.27720397e+04,  3.28001268e+04,\n",
       "        9.63921826e+03,  1.93964384e+04,  2.47771683e+04,  1.30460008e+04,\n",
       "        1.26263787e+04,  2.29583339e+04,  1.79729427e+04,  2.46698669e+04,\n",
       "        1.97684975e+04,  4.20649680e+04,  1.64885097e+04,  2.95012221e+04,\n",
       "        2.63899519e+04, -2.52533778e+03,  3.13629555e+04,  2.37968848e+04,\n",
       "        2.34521272e+04,  1.39021446e+04,  3.01948678e+04,  1.31923168e+04,\n",
       "        1.52309229e+04,  2.35120659e+04,  4.32584882e+03,  1.62563327e+04,\n",
       "        6.50235496e+04,  7.43032217e+04,  2.45320366e+04,  3.78905639e+04,\n",
       "        6.48867967e+04,  2.56456097e+04,  2.23527400e+04,  4.47065118e+04,\n",
       "        2.42677042e+04,  2.49225537e+04,  1.80037362e+04,  1.50553265e+04,\n",
       "        1.73823413e+04, -1.24425668e+04,  2.53383626e+04,  3.12369198e+04,\n",
       "        3.23730914e+04,  2.85709538e+04,  2.83598023e+04,  5.53525764e+04,\n",
       "        1.11015235e+04,  1.34412326e+04,  3.87603332e+04,  2.81268030e+04,\n",
       "        6.45808572e+04,  6.86577455e+04,  1.35084707e+04,  2.54502062e+04,\n",
       "        2.74129785e+04,  2.03497096e+04, -1.83546325e+04,  2.30355403e+04,\n",
       "       -4.77146220e+03,  6.76253660e+03,  2.22050504e+04,  1.89061051e+04,\n",
       "        4.34476025e+04,  1.52392357e+04,  2.34154316e+04,  1.72826651e+04,\n",
       "        2.85776444e+04,  3.39286666e+04,  1.16317876e+04,  3.41012488e+04,\n",
       "        5.96139341e+04,  1.28153513e+04,  2.00032041e+04,  4.11890565e+04,\n",
       "        2.35486375e+04,  2.79041249e+04,  1.40720342e+04,  2.85994496e+04,\n",
       "        1.66882261e+04,  2.49913520e+04,  1.58310377e+04,  2.02872357e+04,\n",
       "        1.56900720e+04,  1.60194974e+04,  1.78811479e+04, -1.12075853e+04,\n",
       "        4.16226815e+04,  3.10004062e+04,  3.01916067e+04,  5.94571094e+04,\n",
       "        2.28512212e+04,  1.92405641e+04,  1.68135120e+04,  4.48042038e+04,\n",
       "        2.93478371e+04,  8.88017306e+03,  4.67666569e+04,  1.73063662e+04,\n",
       "        2.26009061e+04,  1.13210332e+04,  2.45581017e+04,  1.97921525e+04,\n",
       "        1.98126603e+04,  2.35935269e+04,  4.53470948e+03,  1.70642476e+04,\n",
       "       -1.42834089e+03,  7.32934203e+03,  3.12652025e+04,  2.18791776e+04,\n",
       "        2.37835036e+04,  1.65008173e+04,  3.29284026e+04,  2.83674819e+04,\n",
       "        3.84439623e+04,  2.37236305e+04,  1.63282539e+04,  1.08991001e+04,\n",
       "        2.73170071e+04,  5.63604804e+04,  4.44098758e+04, -4.05714055e+03,\n",
       "        2.90540024e+04,  2.13768657e+04,  2.48339363e+04,  1.86612811e+04,\n",
       "        1.23471686e+04,  8.14463008e+03,  2.81208624e+04,  2.55515516e+04,\n",
       "        2.51115032e+04,  2.31202318e+04,  2.02403470e+04,  3.02077518e+04])"
      ]
     },
     "execution_count": 19,
     "metadata": {},
     "output_type": "execute_result"
    }
   ],
   "source": [
    "## testing the data set.\n",
    "pred1=LinearModel.predict(xtest)\n",
    "pred1"
   ]
  },
  {
   "cell_type": "code",
   "execution_count": 20,
   "id": "1d7dfe46-8b97-4c3a-80f1-910728c6ebbf",
   "metadata": {
    "tags": []
   },
   "outputs": [
    {
     "name": "stdout",
     "output_type": "stream",
     "text": [
      "MAE 12801.740381276944\n",
      "MAPE 1.357622460520504\n",
      "MsE 307656692.6483434\n",
      "R2 SCORE 0.3804020383235107\n"
     ]
    }
   ],
   "source": [
    "## checking how our model perform usin any of these from sklearn.metrics import r2_score, mean_absolute_error, mean_absolute_percentage_error, mean_squared_error\n",
    "print(\"MAE\",mean_absolute_error(ytest, pred1))\n",
    "print(\"MAPE\",mean_absolute_percentage_error (ytest,pred1))\n",
    "print(\"MsE\",mean_squared_error (ytest,pred1))\n",
    "print(\"R2 SCORE\",r2_score(ytest,pred1))"
   ]
  },
  {
   "cell_type": "code",
   "execution_count": 21,
   "id": "003a0e88-1f4b-42d1-8bd7-e1bebbdf41bd",
   "metadata": {
    "tags": []
   },
   "outputs": [
    {
     "data": {
      "text/html": [
       "<div>\n",
       "<style scoped>\n",
       "    .dataframe tbody tr th:only-of-type {\n",
       "        vertical-align: middle;\n",
       "    }\n",
       "\n",
       "    .dataframe tbody tr th {\n",
       "        vertical-align: top;\n",
       "    }\n",
       "\n",
       "    .dataframe thead th {\n",
       "        text-align: right;\n",
       "    }\n",
       "</style>\n",
       "<table border=\"1\" class=\"dataframe\">\n",
       "  <thead>\n",
       "    <tr style=\"text-align: right;\">\n",
       "      <th></th>\n",
       "      <th>Actual price</th>\n",
       "      <th>Predicted price</th>\n",
       "    </tr>\n",
       "  </thead>\n",
       "  <tbody>\n",
       "    <tr>\n",
       "      <th>556</th>\n",
       "      <td>20999</td>\n",
       "      <td>26615.354606</td>\n",
       "    </tr>\n",
       "    <tr>\n",
       "      <th>1386</th>\n",
       "      <td>1250</td>\n",
       "      <td>21767.428439</td>\n",
       "    </tr>\n",
       "    <tr>\n",
       "      <th>1450</th>\n",
       "      <td>16499</td>\n",
       "      <td>28440.417552</td>\n",
       "    </tr>\n",
       "    <tr>\n",
       "      <th>111</th>\n",
       "      <td>14999</td>\n",
       "      <td>3236.839258</td>\n",
       "    </tr>\n",
       "    <tr>\n",
       "      <th>1787</th>\n",
       "      <td>15999</td>\n",
       "      <td>37747.005596</td>\n",
       "    </tr>\n",
       "    <tr>\n",
       "      <th>...</th>\n",
       "      <td>...</td>\n",
       "      <td>...</td>\n",
       "    </tr>\n",
       "    <tr>\n",
       "      <th>790</th>\n",
       "      <td>13999</td>\n",
       "      <td>25551.551649</td>\n",
       "    </tr>\n",
       "    <tr>\n",
       "      <th>846</th>\n",
       "      <td>10990</td>\n",
       "      <td>25111.503170</td>\n",
       "    </tr>\n",
       "    <tr>\n",
       "      <th>654</th>\n",
       "      <td>13499</td>\n",
       "      <td>23120.231780</td>\n",
       "    </tr>\n",
       "    <tr>\n",
       "      <th>1084</th>\n",
       "      <td>36600</td>\n",
       "      <td>20240.346964</td>\n",
       "    </tr>\n",
       "    <tr>\n",
       "      <th>1574</th>\n",
       "      <td>36990</td>\n",
       "      <td>30207.751842</td>\n",
       "    </tr>\n",
       "  </tbody>\n",
       "</table>\n",
       "<p>368 rows × 2 columns</p>\n",
       "</div>"
      ],
      "text/plain": [
       "      Actual price  Predicted price\n",
       "556          20999     26615.354606\n",
       "1386          1250     21767.428439\n",
       "1450         16499     28440.417552\n",
       "111          14999      3236.839258\n",
       "1787         15999     37747.005596\n",
       "...            ...              ...\n",
       "790          13999     25551.551649\n",
       "846          10990     25111.503170\n",
       "654          13499     23120.231780\n",
       "1084         36600     20240.346964\n",
       "1574         36990     30207.751842\n",
       "\n",
       "[368 rows x 2 columns]"
      ]
     },
     "execution_count": 21,
     "metadata": {},
     "output_type": "execute_result"
    }
   ],
   "source": [
    "## to check how poor the prediction above is.\n",
    "\n",
    "OUTCOME = {\n",
    "    \"Actual price\":ytest,\n",
    "    \"Predicted price\":pred1\n",
    "}\n",
    "df3=pd.DataFrame(OUTCOME)\n",
    "df3"
   ]
  },
  {
   "cell_type": "code",
   "execution_count": 22,
   "id": "003410ee-0cb6-4795-864e-352b9ad18df4",
   "metadata": {
    "tags": []
   },
   "outputs": [
    {
     "data": {
      "text/html": [
       "<style>#sk-container-id-2 {color: black;}#sk-container-id-2 pre{padding: 0;}#sk-container-id-2 div.sk-toggleable {background-color: white;}#sk-container-id-2 label.sk-toggleable__label {cursor: pointer;display: block;width: 100%;margin-bottom: 0;padding: 0.3em;box-sizing: border-box;text-align: center;}#sk-container-id-2 label.sk-toggleable__label-arrow:before {content: \"▸\";float: left;margin-right: 0.25em;color: #696969;}#sk-container-id-2 label.sk-toggleable__label-arrow:hover:before {color: black;}#sk-container-id-2 div.sk-estimator:hover label.sk-toggleable__label-arrow:before {color: black;}#sk-container-id-2 div.sk-toggleable__content {max-height: 0;max-width: 0;overflow: hidden;text-align: left;background-color: #f0f8ff;}#sk-container-id-2 div.sk-toggleable__content pre {margin: 0.2em;color: black;border-radius: 0.25em;background-color: #f0f8ff;}#sk-container-id-2 input.sk-toggleable__control:checked~div.sk-toggleable__content {max-height: 200px;max-width: 100%;overflow: auto;}#sk-container-id-2 input.sk-toggleable__control:checked~label.sk-toggleable__label-arrow:before {content: \"▾\";}#sk-container-id-2 div.sk-estimator input.sk-toggleable__control:checked~label.sk-toggleable__label {background-color: #d4ebff;}#sk-container-id-2 div.sk-label input.sk-toggleable__control:checked~label.sk-toggleable__label {background-color: #d4ebff;}#sk-container-id-2 input.sk-hidden--visually {border: 0;clip: rect(1px 1px 1px 1px);clip: rect(1px, 1px, 1px, 1px);height: 1px;margin: -1px;overflow: hidden;padding: 0;position: absolute;width: 1px;}#sk-container-id-2 div.sk-estimator {font-family: monospace;background-color: #f0f8ff;border: 1px dotted black;border-radius: 0.25em;box-sizing: border-box;margin-bottom: 0.5em;}#sk-container-id-2 div.sk-estimator:hover {background-color: #d4ebff;}#sk-container-id-2 div.sk-parallel-item::after {content: \"\";width: 100%;border-bottom: 1px solid gray;flex-grow: 1;}#sk-container-id-2 div.sk-label:hover label.sk-toggleable__label {background-color: #d4ebff;}#sk-container-id-2 div.sk-serial::before {content: \"\";position: absolute;border-left: 1px solid gray;box-sizing: border-box;top: 0;bottom: 0;left: 50%;z-index: 0;}#sk-container-id-2 div.sk-serial {display: flex;flex-direction: column;align-items: center;background-color: white;padding-right: 0.2em;padding-left: 0.2em;position: relative;}#sk-container-id-2 div.sk-item {position: relative;z-index: 1;}#sk-container-id-2 div.sk-parallel {display: flex;align-items: stretch;justify-content: center;background-color: white;position: relative;}#sk-container-id-2 div.sk-item::before, #sk-container-id-2 div.sk-parallel-item::before {content: \"\";position: absolute;border-left: 1px solid gray;box-sizing: border-box;top: 0;bottom: 0;left: 50%;z-index: -1;}#sk-container-id-2 div.sk-parallel-item {display: flex;flex-direction: column;z-index: 1;position: relative;background-color: white;}#sk-container-id-2 div.sk-parallel-item:first-child::after {align-self: flex-end;width: 50%;}#sk-container-id-2 div.sk-parallel-item:last-child::after {align-self: flex-start;width: 50%;}#sk-container-id-2 div.sk-parallel-item:only-child::after {width: 0;}#sk-container-id-2 div.sk-dashed-wrapped {border: 1px dashed gray;margin: 0 0.4em 0.5em 0.4em;box-sizing: border-box;padding-bottom: 0.4em;background-color: white;}#sk-container-id-2 div.sk-label label {font-family: monospace;font-weight: bold;display: inline-block;line-height: 1.2em;}#sk-container-id-2 div.sk-label-container {text-align: center;}#sk-container-id-2 div.sk-container {/* jupyter's `normalize.less` sets `[hidden] { display: none; }` but bootstrap.min.css set `[hidden] { display: none !important; }` so we also need the `!important` here to be able to override the default hidden behavior on the sphinx rendered scikit-learn.org. See: https://github.com/scikit-learn/scikit-learn/issues/21755 */display: inline-block !important;position: relative;}#sk-container-id-2 div.sk-text-repr-fallback {display: none;}</style><div id=\"sk-container-id-2\" class=\"sk-top-container\"><div class=\"sk-text-repr-fallback\"><pre>DecisionTreeRegressor()</pre><b>In a Jupyter environment, please rerun this cell to show the HTML representation or trust the notebook. <br />On GitHub, the HTML representation is unable to render, please try loading this page with nbviewer.org.</b></div><div class=\"sk-container\" hidden><div class=\"sk-item\"><div class=\"sk-estimator sk-toggleable\"><input class=\"sk-toggleable__control sk-hidden--visually\" id=\"sk-estimator-id-4\" type=\"checkbox\" checked><label for=\"sk-estimator-id-4\" class=\"sk-toggleable__label sk-toggleable__label-arrow\">DecisionTreeRegressor</label><div class=\"sk-toggleable__content\"><pre>DecisionTreeRegressor()</pre></div></div></div></div></div>"
      ],
      "text/plain": [
       "DecisionTreeRegressor()"
      ]
     },
     "execution_count": 22,
     "metadata": {},
     "output_type": "execute_result"
    }
   ],
   "source": [
    "tree=DecisionTreeRegressor()\n",
    "tree.fit(xtrain,ytrain)"
   ]
  },
  {
   "cell_type": "code",
   "execution_count": 23,
   "id": "aefaa193-5920-4d77-bfc2-216b256fc7e1",
   "metadata": {
    "tags": []
   },
   "outputs": [
    {
     "data": {
      "text/plain": [
       "array([ 20999.        ,   1617.5       ,  16499.        ,  14999.        ,\n",
       "        15999.        ,   6999.        ,  10499.        ,  11999.        ,\n",
       "         8999.        ,  27990.        ,  36990.        ,  27990.        ,\n",
       "        15499.        ,   9999.        ,  24990.        ,  16999.        ,\n",
       "        14999.        ,  36999.        ,  25999.        ,  32299.        ,\n",
       "        25999.        ,   7199.        ,  69999.        ,  13999.        ,\n",
       "         1949.        ,  10499.        ,  80999.        ,  31990.        ,\n",
       "        48990.        ,  27999.        ,   9499.        ,   3440.        ,\n",
       "        42999.        , 100999.        ,   5999.        ,  12999.        ,\n",
       "        20999.        ,  27990.        ,  19990.        ,  13999.        ,\n",
       "        71999.        ,  13499.        ,   8799.        ,  15499.        ,\n",
       "        10499.        ,  38849.        ,  13999.        ,   1899.        ,\n",
       "        14990.        ,  22800.        ,  13999.        ,  13999.        ,\n",
       "        32990.        ,  55899.        ,  13999.        ,  21999.        ,\n",
       "        15999.        ,  13499.        ,   8049.        ,  24999.        ,\n",
       "        49996.        ,   9290.        ,  23999.        ,  10999.        ,\n",
       "         6995.        ,  27990.        ,   6749.        ,   9999.        ,\n",
       "        27999.        ,  11999.        ,   7343.        ,  12700.        ,\n",
       "         9999.        , 127999.        ,  15999.        ,  15894.5       ,\n",
       "        11499.        ,  36990.        ,   5359.        ,  40999.        ,\n",
       "         9999.        ,  94999.        ,  13689.        ,  17999.        ,\n",
       "        43990.        ,   9290.        ,  27899.        ,   2490.        ,\n",
       "        13999.        ,   9999.        ,  11249.        ,   1399.        ,\n",
       "         9990.        ,  20999.        ,  15999.        ,  37990.        ,\n",
       "         9490.        ,  19999.        ,   9090.        ,  11999.        ,\n",
       "         9990.        ,  27999.        ,  21990.        ,   2069.        ,\n",
       "        35999.        ,  15999.        , 100999.        ,  13999.        ,\n",
       "        18999.        ,  14499.        ,  11999.        ,  10857.        ,\n",
       "        15990.        ,  56999.        ,  15490.        ,   2069.        ,\n",
       "        34990.        ,  14999.        , 125999.        ,   7499.        ,\n",
       "        24999.        ,  13499.        ,  18999.        ,  13999.        ,\n",
       "        25999.        ,  14999.        ,   9999.        ,  25999.        ,\n",
       "        12499.        ,  21999.        ,  22800.        ,   2967.        ,\n",
       "        11990.        ,   4212.5       ,  15999.        ,  10799.        ,\n",
       "         6999.        ,  17999.        ,  19450.        ,  80999.        ,\n",
       "        46999.        ,  25999.        ,  26990.        ,  12999.        ,\n",
       "        15999.        ,   8799.        ,   1299.        ,  11980.        ,\n",
       "        14990.        ,  20999.        ,  27999.        ,   1199.        ,\n",
       "        17999.        ,  27990.        ,  13999.        ,  28990.        ,\n",
       "        61999.        ,  23999.        ,  10999.        ,  10499.        ,\n",
       "        10999.        ,  11999.        ,  24999.        ,   9090.        ,\n",
       "        11990.        ,  39979.5       ,  13990.        ,   1739.        ,\n",
       "        24990.        ,  14999.        ,  28500.        ,   1899.        ,\n",
       "        10499.        ,   7499.        ,  12499.        ,  24999.        ,\n",
       "         1599.        ,  59999.        ,  27990.        , 129999.        ,\n",
       "         9999.        ,   9999.        ,   6299.        ,   2360.        ,\n",
       "        16999.        ,   9999.        ,  29490.        ,  81999.        ,\n",
       "         7079.        ,  31270.        ,  10999.        ,  44999.        ,\n",
       "        54999.        ,  80000.        ,   6199.        ,  11999.        ,\n",
       "        20980.        ,   2225.        ,  34990.        ,   2360.        ,\n",
       "        46880.        ,  17999.        ,  17999.        ,  13799.        ,\n",
       "        10499.        ,  22999.        ,   1739.        ,  53999.        ,\n",
       "        18999.        ,  13499.        ,  49999.        ,  15499.        ,\n",
       "         8999.        ,   8999.        ,   2849.        ,  44999.        ,\n",
       "         8999.        ,   3250.        ,   9499.        ,  17999.        ,\n",
       "        11490.        ,   2360.        ,  14499.        ,  20999.        ,\n",
       "        37500.        , 125999.        ,  18999.        ,   8499.        ,\n",
       "        17999.        ,  13999.        ,  32999.        ,  11999.        ,\n",
       "        32299.        ,  14999.        ,   8999.        ,   1899.        ,\n",
       "         6999.        ,  15999.        ,  20999.        ,   7499.        ,\n",
       "        80000.        ,  15999.        ,   5899.        ,  32990.        ,\n",
       "        15899.        ,  14490.        ,   9249.        ,  49999.        ,\n",
       "        43999.        ,   1299.        ,  18499.        ,  10999.        ,\n",
       "        14999.        ,  31995.5       ,  14999.        ,   6499.        ,\n",
       "        34999.        ,   7749.        ,  10999.        ,   6999.        ,\n",
       "        46999.        ,  80999.        ,   9999.        ,  13499.        ,\n",
       "        66999.        ,   5999.        ,  11999.        ,  46599.        ,\n",
       "         6499.        ,  29198.        ,  27899.        ,  24999.        ,\n",
       "        21499.        ,   1199.        ,   7499.        ,  40999.        ,\n",
       "        26999.        ,   8799.        ,  18999.        ,  84999.        ,\n",
       "         9499.        ,  13999.        ,  11099.        ,  10999.        ,\n",
       "        61999.        , 100999.        ,  10499.        ,   9499.        ,\n",
       "        18999.        ,   7999.        ,   2360.        ,  14499.        ,\n",
       "        12749.        ,   2399.        ,   5649.        ,  19999.        ,\n",
       "       124999.        ,  27990.        ,  17999.        ,  20999.        ,\n",
       "         8799.        ,  24999.        ,   5359.        ,  17999.        ,\n",
       "        46999.        ,   9090.        ,  19990.        , 124999.        ,\n",
       "        15990.        ,  21990.        ,  10999.        ,  26999.        ,\n",
       "         4397.66666667,  17999.        ,  35333.        ,   8590.        ,\n",
       "        11218.        ,  39999.        ,   9990.        ,   9499.        ,\n",
       "        13604.        ,  51490.        ,  21999.        ,  53999.        ,\n",
       "         6999.        ,  13999.        ,  19999.        ,  32999.        ,\n",
       "        16499.        ,   1599.        ,  41999.        ,  20999.        ,\n",
       "        10499.        ,   2299.        ,  17999.        ,  17999.        ,\n",
       "        36990.        ,  48990.        ,  14999.        ,  14499.        ,\n",
       "         2599.        ,   7999.        ,  15999.        ,  22000.        ,\n",
       "        10999.        ,  14990.        ,  24999.        ,   6999.        ,\n",
       "        19990.        ,   9990.        ,   1899.        ,   6049.        ,\n",
       "        14499.        , 110999.        ,  13999.        ,   2359.        ,\n",
       "        29999.        ,  10999.        ,  32999.        ,  32990.        ,\n",
       "         9949.        ,  16499.        ,  21999.        ,  13999.        ,\n",
       "        10990.        ,  13499.        ,  46990.        ,  40999.        ])"
      ]
     },
     "execution_count": 23,
     "metadata": {},
     "output_type": "execute_result"
    }
   ],
   "source": [
    "## testing the data set.\n",
    "pred2=tree.predict(xtest)\n",
    "pred2"
   ]
  },
  {
   "cell_type": "code",
   "execution_count": 24,
   "id": "880a1982-f230-4d74-a299-cc534311081a",
   "metadata": {
    "tags": []
   },
   "outputs": [
    {
     "name": "stdout",
     "output_type": "stream",
     "text": [
      "MAE 2393.600996376812\n",
      "MAPE 0.3294224684196338\n",
      "MsE 80288104.9013436\n",
      "R2 SCORE 0.8383056590918971\n"
     ]
    }
   ],
   "source": [
    "## checking how our model perform usin any of these from sklearn.metrics import r2_score, mean_absolute_error, mean_absolute_percentage_error, mean_squared_error\n",
    "print(\"MAE\",mean_absolute_error(ytest, pred2))\n",
    "print(\"MAPE\",mean_absolute_percentage_error (ytest,pred2))\n",
    "print(\"MsE\",mean_squared_error (ytest,pred2))\n",
    "print(\"R2 SCORE\",r2_score(ytest,pred2))"
   ]
  },
  {
   "cell_type": "code",
   "execution_count": 25,
   "id": "25ef0b69-25e0-40e1-8775-b58aa8a66887",
   "metadata": {
    "tags": []
   },
   "outputs": [
    {
     "data": {
      "text/html": [
       "<div>\n",
       "<style scoped>\n",
       "    .dataframe tbody tr th:only-of-type {\n",
       "        vertical-align: middle;\n",
       "    }\n",
       "\n",
       "    .dataframe tbody tr th {\n",
       "        vertical-align: top;\n",
       "    }\n",
       "\n",
       "    .dataframe thead th {\n",
       "        text-align: right;\n",
       "    }\n",
       "</style>\n",
       "<table border=\"1\" class=\"dataframe\">\n",
       "  <thead>\n",
       "    <tr style=\"text-align: right;\">\n",
       "      <th></th>\n",
       "      <th>Actual price</th>\n",
       "      <th>Predicted price</th>\n",
       "    </tr>\n",
       "  </thead>\n",
       "  <tbody>\n",
       "    <tr>\n",
       "      <th>556</th>\n",
       "      <td>20999</td>\n",
       "      <td>20999.0</td>\n",
       "    </tr>\n",
       "    <tr>\n",
       "      <th>1386</th>\n",
       "      <td>1250</td>\n",
       "      <td>1617.5</td>\n",
       "    </tr>\n",
       "    <tr>\n",
       "      <th>1450</th>\n",
       "      <td>16499</td>\n",
       "      <td>16499.0</td>\n",
       "    </tr>\n",
       "    <tr>\n",
       "      <th>111</th>\n",
       "      <td>14999</td>\n",
       "      <td>14999.0</td>\n",
       "    </tr>\n",
       "    <tr>\n",
       "      <th>1787</th>\n",
       "      <td>15999</td>\n",
       "      <td>15999.0</td>\n",
       "    </tr>\n",
       "    <tr>\n",
       "      <th>...</th>\n",
       "      <td>...</td>\n",
       "      <td>...</td>\n",
       "    </tr>\n",
       "    <tr>\n",
       "      <th>790</th>\n",
       "      <td>13999</td>\n",
       "      <td>13999.0</td>\n",
       "    </tr>\n",
       "    <tr>\n",
       "      <th>846</th>\n",
       "      <td>10990</td>\n",
       "      <td>10990.0</td>\n",
       "    </tr>\n",
       "    <tr>\n",
       "      <th>654</th>\n",
       "      <td>13499</td>\n",
       "      <td>13499.0</td>\n",
       "    </tr>\n",
       "    <tr>\n",
       "      <th>1084</th>\n",
       "      <td>36600</td>\n",
       "      <td>46990.0</td>\n",
       "    </tr>\n",
       "    <tr>\n",
       "      <th>1574</th>\n",
       "      <td>36990</td>\n",
       "      <td>40999.0</td>\n",
       "    </tr>\n",
       "  </tbody>\n",
       "</table>\n",
       "<p>368 rows × 2 columns</p>\n",
       "</div>"
      ],
      "text/plain": [
       "      Actual price  Predicted price\n",
       "556          20999          20999.0\n",
       "1386          1250           1617.5\n",
       "1450         16499          16499.0\n",
       "111          14999          14999.0\n",
       "1787         15999          15999.0\n",
       "...            ...              ...\n",
       "790          13999          13999.0\n",
       "846          10990          10990.0\n",
       "654          13499          13499.0\n",
       "1084         36600          46990.0\n",
       "1574         36990          40999.0\n",
       "\n",
       "[368 rows x 2 columns]"
      ]
     },
     "execution_count": 25,
     "metadata": {},
     "output_type": "execute_result"
    }
   ],
   "source": [
    "## to check how poor the prediction above is.\n",
    "\n",
    "OUTCOME = {\n",
    "    \"Actual price\":ytest,\n",
    "    \"Predicted price\":pred2\n",
    "}\n",
    "df3=pd.DataFrame(OUTCOME)\n",
    "df3"
   ]
  },
  {
   "cell_type": "code",
   "execution_count": 26,
   "id": "cb9c0a58-6921-44f6-a065-c2018da0f310",
   "metadata": {
    "tags": []
   },
   "outputs": [
    {
     "data": {
      "text/html": [
       "<style>#sk-container-id-3 {color: black;}#sk-container-id-3 pre{padding: 0;}#sk-container-id-3 div.sk-toggleable {background-color: white;}#sk-container-id-3 label.sk-toggleable__label {cursor: pointer;display: block;width: 100%;margin-bottom: 0;padding: 0.3em;box-sizing: border-box;text-align: center;}#sk-container-id-3 label.sk-toggleable__label-arrow:before {content: \"▸\";float: left;margin-right: 0.25em;color: #696969;}#sk-container-id-3 label.sk-toggleable__label-arrow:hover:before {color: black;}#sk-container-id-3 div.sk-estimator:hover label.sk-toggleable__label-arrow:before {color: black;}#sk-container-id-3 div.sk-toggleable__content {max-height: 0;max-width: 0;overflow: hidden;text-align: left;background-color: #f0f8ff;}#sk-container-id-3 div.sk-toggleable__content pre {margin: 0.2em;color: black;border-radius: 0.25em;background-color: #f0f8ff;}#sk-container-id-3 input.sk-toggleable__control:checked~div.sk-toggleable__content {max-height: 200px;max-width: 100%;overflow: auto;}#sk-container-id-3 input.sk-toggleable__control:checked~label.sk-toggleable__label-arrow:before {content: \"▾\";}#sk-container-id-3 div.sk-estimator input.sk-toggleable__control:checked~label.sk-toggleable__label {background-color: #d4ebff;}#sk-container-id-3 div.sk-label input.sk-toggleable__control:checked~label.sk-toggleable__label {background-color: #d4ebff;}#sk-container-id-3 input.sk-hidden--visually {border: 0;clip: rect(1px 1px 1px 1px);clip: rect(1px, 1px, 1px, 1px);height: 1px;margin: -1px;overflow: hidden;padding: 0;position: absolute;width: 1px;}#sk-container-id-3 div.sk-estimator {font-family: monospace;background-color: #f0f8ff;border: 1px dotted black;border-radius: 0.25em;box-sizing: border-box;margin-bottom: 0.5em;}#sk-container-id-3 div.sk-estimator:hover {background-color: #d4ebff;}#sk-container-id-3 div.sk-parallel-item::after {content: \"\";width: 100%;border-bottom: 1px solid gray;flex-grow: 1;}#sk-container-id-3 div.sk-label:hover label.sk-toggleable__label {background-color: #d4ebff;}#sk-container-id-3 div.sk-serial::before {content: \"\";position: absolute;border-left: 1px solid gray;box-sizing: border-box;top: 0;bottom: 0;left: 50%;z-index: 0;}#sk-container-id-3 div.sk-serial {display: flex;flex-direction: column;align-items: center;background-color: white;padding-right: 0.2em;padding-left: 0.2em;position: relative;}#sk-container-id-3 div.sk-item {position: relative;z-index: 1;}#sk-container-id-3 div.sk-parallel {display: flex;align-items: stretch;justify-content: center;background-color: white;position: relative;}#sk-container-id-3 div.sk-item::before, #sk-container-id-3 div.sk-parallel-item::before {content: \"\";position: absolute;border-left: 1px solid gray;box-sizing: border-box;top: 0;bottom: 0;left: 50%;z-index: -1;}#sk-container-id-3 div.sk-parallel-item {display: flex;flex-direction: column;z-index: 1;position: relative;background-color: white;}#sk-container-id-3 div.sk-parallel-item:first-child::after {align-self: flex-end;width: 50%;}#sk-container-id-3 div.sk-parallel-item:last-child::after {align-self: flex-start;width: 50%;}#sk-container-id-3 div.sk-parallel-item:only-child::after {width: 0;}#sk-container-id-3 div.sk-dashed-wrapped {border: 1px dashed gray;margin: 0 0.4em 0.5em 0.4em;box-sizing: border-box;padding-bottom: 0.4em;background-color: white;}#sk-container-id-3 div.sk-label label {font-family: monospace;font-weight: bold;display: inline-block;line-height: 1.2em;}#sk-container-id-3 div.sk-label-container {text-align: center;}#sk-container-id-3 div.sk-container {/* jupyter's `normalize.less` sets `[hidden] { display: none; }` but bootstrap.min.css set `[hidden] { display: none !important; }` so we also need the `!important` here to be able to override the default hidden behavior on the sphinx rendered scikit-learn.org. See: https://github.com/scikit-learn/scikit-learn/issues/21755 */display: inline-block !important;position: relative;}#sk-container-id-3 div.sk-text-repr-fallback {display: none;}</style><div id=\"sk-container-id-3\" class=\"sk-top-container\"><div class=\"sk-text-repr-fallback\"><pre>RandomForestRegressor()</pre><b>In a Jupyter environment, please rerun this cell to show the HTML representation or trust the notebook. <br />On GitHub, the HTML representation is unable to render, please try loading this page with nbviewer.org.</b></div><div class=\"sk-container\" hidden><div class=\"sk-item\"><div class=\"sk-estimator sk-toggleable\"><input class=\"sk-toggleable__control sk-hidden--visually\" id=\"sk-estimator-id-5\" type=\"checkbox\" checked><label for=\"sk-estimator-id-5\" class=\"sk-toggleable__label sk-toggleable__label-arrow\">RandomForestRegressor</label><div class=\"sk-toggleable__content\"><pre>RandomForestRegressor()</pre></div></div></div></div></div>"
      ],
      "text/plain": [
       "RandomForestRegressor()"
      ]
     },
     "execution_count": 26,
     "metadata": {},
     "output_type": "execute_result"
    }
   ],
   "source": [
    "Forest=RandomForestRegressor()\n",
    "Forest.fit(xtrain,ytrain)"
   ]
  },
  {
   "cell_type": "code",
   "execution_count": 27,
   "id": "49f5f1bf-a98f-4f62-bfab-7046b4e80c19",
   "metadata": {
    "tags": []
   },
   "outputs": [
    {
     "data": {
      "text/plain": [
       "array([ 22017.79      ,   2483.42416667,  17058.82      ,  15580.49      ,\n",
       "        16023.82      ,   7204.82      ,  10248.15      ,  12111.33      ,\n",
       "         8820.84      ,  28985.85      ,  53266.69      ,  29354.48      ,\n",
       "        15013.51      ,  14956.85      ,  28536.53      ,  16733.45      ,\n",
       "        14922.77      ,  44312.04      ,  26783.26      ,  33217.83      ,\n",
       "        27278.84      ,   7098.53      ,  70729.        ,  13804.04      ,\n",
       "         1860.18654762,  10973.64      ,  81799.        ,  38332.48      ,\n",
       "        45830.52      ,  27204.22      ,   9426.32      ,   7925.48166667,\n",
       "        33886.56      , 100669.        ,   6542.41      ,  12834.48666667,\n",
       "        18447.81      ,  29078.3125    ,  20963.82      ,  13634.01      ,\n",
       "        72929.        ,  13805.83      ,   9817.68      ,  15013.51      ,\n",
       "        10546.54      ,  29113.        ,  12432.15      ,   2543.5025    ,\n",
       "        15368.8       ,  23363.27      ,  14275.92      ,  14246.71      ,\n",
       "        30105.6875    ,  44637.58166667,  13896.91      ,  21355.29      ,\n",
       "        16442.74      ,  13953.83      ,   9043.        ,  24100.91      ,\n",
       "        48522.405     ,  10948.23      ,  25398.88      ,  11198.8       ,\n",
       "         7099.96      ,  31046.37      ,   6730.21      ,   9677.21      ,\n",
       "        27204.22      ,  13913.55      ,   8377.27      ,  13528.02      ,\n",
       "         9762.12      , 129879.        ,  18377.96      ,  15896.1755    ,\n",
       "        12226.17166667,  53266.69      ,   4996.67166667,  42235.058     ,\n",
       "        10368.04      ,  91155.05      ,  18154.8       ,  17297.02      ,\n",
       "        40486.66      ,   8855.23      ,  27611.4575    ,  14221.59      ,\n",
       "        17976.915     ,  10251.93      ,  12619.42      ,   1902.99      ,\n",
       "        10923.62      ,  20157.56      ,  18222.22      ,  37832.25      ,\n",
       "         9904.11      ,  20518.91      ,   9675.11      ,  12305.96      ,\n",
       "         9563.22      ,  25757.89      ,  21670.16      ,   2845.155     ,\n",
       "        34775.45      ,  15169.56333333,  98859.        ,  13953.04      ,\n",
       "        19980.9       ,  18876.499     ,  12032.41      ,  11359.27      ,\n",
       "        14983.65      ,  53599.        ,  15167.6       ,   2845.155     ,\n",
       "        33858.81      ,  15087.64      , 131239.07      ,   7496.62      ,\n",
       "        23212.2875    ,  13155.5       ,  19335.94      ,  15363.72      ,\n",
       "        27278.84      ,  15898.91      ,   9614.        ,  27278.84      ,\n",
       "        13648.26      ,  21006.25      ,  25773.5025    ,   4255.85      ,\n",
       "        10916.51      ,   4235.3375    ,  16023.82      ,  10722.28      ,\n",
       "         7502.91      ,  16723.64      ,  22942.986     ,  81059.        ,\n",
       "        47409.        ,  25334.85      ,  32299.01      ,  17957.98      ,\n",
       "        15933.925     ,  10171.35      ,   1545.87      ,   9397.74      ,\n",
       "        14331.975     ,  21459.        ,  29597.45      ,   2875.        ,\n",
       "        18335.7       ,  27869.31      ,  12769.56      ,  35829.58833333,\n",
       "        63608.01      ,  24998.64      ,  10948.61      ,  10248.15      ,\n",
       "        11076.        ,  11366.69      ,  25215.54666667,   9580.07      ,\n",
       "        12076.78666667,  38036.8872619 ,  14806.44      ,   2142.955     ,\n",
       "        26320.545     ,  14601.73      ,  30282.105     ,   2426.885     ,\n",
       "        10973.64      ,   8966.14      ,  11576.37      ,  23726.48      ,\n",
       "         1707.175     ,  58772.38      ,  28508.654     , 130397.02      ,\n",
       "        10068.8       ,   9938.91      ,   6603.99333333,   1883.37      ,\n",
       "        16472.15      ,  10052.02      ,  31571.62333333,  77449.        ,\n",
       "         7205.32      ,  31106.19433333,  11882.51      ,  32360.318     ,\n",
       "        54423.89      ,  26733.47166667,   6215.        ,  12003.91      ,\n",
       "        20088.35      ,   2365.49666667,  41637.725     ,   1821.97      ,\n",
       "        45869.74      ,  19081.17      ,  16957.07      ,  13699.77      ,\n",
       "        10943.91      ,  22899.        ,   2142.955     ,  54259.        ,\n",
       "        19998.58      ,  18542.64      ,  46989.3625    ,  17791.904     ,\n",
       "         9342.51      ,   9392.32      ,   3076.65      ,  34924.41214286,\n",
       "         9114.        ,   3360.77833333,   9809.2       ,  17354.81      ,\n",
       "        11321.4       ,   1883.37      ,  14612.97      ,  21108.86      ,\n",
       "        43209.36166667, 132056.2       ,  18958.05      ,   8544.        ,\n",
       "        20184.        ,  12919.39      ,  25284.73      ,  12310.07      ,\n",
       "        33217.83      ,  16502.27333333,   9602.12      ,   2426.885     ,\n",
       "         7235.81      ,  15933.925     ,  18447.81      ,   9023.2       ,\n",
       "        28105.27333333,  15688.82      ,   5755.92      ,  33267.83      ,\n",
       "        17459.42      ,  14541.12      ,   9937.81      ,  57072.56      ,\n",
       "        40710.46      ,   7966.14      ,  17514.        ,  10823.82      ,\n",
       "        14919.8       ,  36767.7425    ,  15087.64      ,   9272.51      ,\n",
       "        26289.39      ,   7913.        ,  10953.23      ,   8942.28      ,\n",
       "        47209.        ,  82439.        ,   9043.41      ,  13155.5       ,\n",
       "        62019.        ,   6087.5       ,  12219.02      ,  44602.01      ,\n",
       "         9720.21      ,  33188.24216667,  26775.5575    ,  25075.46      ,\n",
       "        22209.18      ,   1527.39      ,   7559.        ,  41193.        ,\n",
       "        24713.91      ,  10166.55      ,  19184.        ,  84159.01      ,\n",
       "         9872.77      ,  12919.39      ,  11138.4       ,  11988.91      ,\n",
       "        62259.        ,  98659.        ,  11178.88      ,   9614.        ,\n",
       "        19406.71      ,   8810.24      ,   1883.37      ,  14612.97      ,\n",
       "        10941.89      ,   2980.86      ,   6102.9       ,  23529.33083333,\n",
       "       118058.82      ,  29083.2625    ,  17893.82      ,  19983.82      ,\n",
       "        10166.31      ,  23868.82      ,   6636.88066667,  18879.        ,\n",
       "        47409.        ,   9642.61      ,  21008.44      , 114195.77      ,\n",
       "        15368.41      ,  21790.5       ,  10447.41      ,  16338.55      ,\n",
       "         4313.99466667,  19815.17      ,  29369.8165    ,   7946.67      ,\n",
       "        12359.31      ,  38014.18      ,   9010.35      ,   3472.2125    ,\n",
       "        26081.81      ,  59616.97      ,  21006.25      ,  54529.        ,\n",
       "         7012.42      ,  11027.33      ,  19758.64      ,  32762.82      ,\n",
       "        16051.42      ,   1588.66483333,  46188.01      ,  24568.55      ,\n",
       "        10319.        ,  28228.0875    ,  13343.28      ,  18335.7       ,\n",
       "        33117.92      ,  46640.61      ,  15302.01      ,  18846.305     ,\n",
       "         2418.35183333,   6426.04583333,  16883.01      ,  22046.56      ,\n",
       "        10823.82      ,  16892.45      ,  24443.52      ,   6938.5       ,\n",
       "        21256.68      ,   9995.09      ,   2543.5025    ,   6071.        ,\n",
       "        14763.83      ,  80040.6       ,  14048.63      ,   2793.58      ,\n",
       "        29938.22      ,  10606.45      ,  16302.28      ,  30035.5975    ,\n",
       "         9237.39      ,  18945.005     ,  22965.        ,  12769.56      ,\n",
       "        11003.49      ,  13463.5       ,  47101.67      ,  40917.38333333])"
      ]
     },
     "execution_count": 27,
     "metadata": {},
     "output_type": "execute_result"
    }
   ],
   "source": [
    "## testing the data set.\n",
    "pred3=Forest.predict(xtest)\n",
    "pred3"
   ]
  },
  {
   "cell_type": "code",
   "execution_count": 28,
   "id": "c985484a-67fe-4468-a650-2e3539a90560",
   "metadata": {
    "tags": []
   },
   "outputs": [
    {
     "name": "stdout",
     "output_type": "stream",
     "text": [
      "MAE 2460.173666601967\n",
      "MAPE 0.2718904668335519\n",
      "MsE 35739255.61901277\n",
      "R2 SCORE 0.9280237665471941\n"
     ]
    }
   ],
   "source": [
    "## checking how our model perform usin any of these from sklearn.metrics import r2_score, mean_absolute_error, mean_absolute_percentage_error, mean_squared_error\n",
    "print(\"MAE\",mean_absolute_error(ytest, pred3))\n",
    "print(\"MAPE\",mean_absolute_percentage_error (ytest,pred3))\n",
    "print(\"MsE\",mean_squared_error (ytest,pred3))\n",
    "print(\"R2 SCORE\",r2_score(ytest,pred3))"
   ]
  },
  {
   "cell_type": "code",
   "execution_count": 29,
   "id": "f5498b49-e0b9-4970-ac27-be78cd26b6f9",
   "metadata": {
    "tags": []
   },
   "outputs": [
    {
     "data": {
      "text/html": [
       "<div>\n",
       "<style scoped>\n",
       "    .dataframe tbody tr th:only-of-type {\n",
       "        vertical-align: middle;\n",
       "    }\n",
       "\n",
       "    .dataframe tbody tr th {\n",
       "        vertical-align: top;\n",
       "    }\n",
       "\n",
       "    .dataframe thead th {\n",
       "        text-align: right;\n",
       "    }\n",
       "</style>\n",
       "<table border=\"1\" class=\"dataframe\">\n",
       "  <thead>\n",
       "    <tr style=\"text-align: right;\">\n",
       "      <th></th>\n",
       "      <th>Actual price</th>\n",
       "      <th>Predicted price</th>\n",
       "    </tr>\n",
       "  </thead>\n",
       "  <tbody>\n",
       "    <tr>\n",
       "      <th>556</th>\n",
       "      <td>20999</td>\n",
       "      <td>22017.790000</td>\n",
       "    </tr>\n",
       "    <tr>\n",
       "      <th>1386</th>\n",
       "      <td>1250</td>\n",
       "      <td>2483.424167</td>\n",
       "    </tr>\n",
       "    <tr>\n",
       "      <th>1450</th>\n",
       "      <td>16499</td>\n",
       "      <td>17058.820000</td>\n",
       "    </tr>\n",
       "    <tr>\n",
       "      <th>111</th>\n",
       "      <td>14999</td>\n",
       "      <td>15580.490000</td>\n",
       "    </tr>\n",
       "    <tr>\n",
       "      <th>1787</th>\n",
       "      <td>15999</td>\n",
       "      <td>16023.820000</td>\n",
       "    </tr>\n",
       "    <tr>\n",
       "      <th>...</th>\n",
       "      <td>...</td>\n",
       "      <td>...</td>\n",
       "    </tr>\n",
       "    <tr>\n",
       "      <th>790</th>\n",
       "      <td>13999</td>\n",
       "      <td>12769.560000</td>\n",
       "    </tr>\n",
       "    <tr>\n",
       "      <th>846</th>\n",
       "      <td>10990</td>\n",
       "      <td>11003.490000</td>\n",
       "    </tr>\n",
       "    <tr>\n",
       "      <th>654</th>\n",
       "      <td>13499</td>\n",
       "      <td>13463.500000</td>\n",
       "    </tr>\n",
       "    <tr>\n",
       "      <th>1084</th>\n",
       "      <td>36600</td>\n",
       "      <td>47101.670000</td>\n",
       "    </tr>\n",
       "    <tr>\n",
       "      <th>1574</th>\n",
       "      <td>36990</td>\n",
       "      <td>40917.383333</td>\n",
       "    </tr>\n",
       "  </tbody>\n",
       "</table>\n",
       "<p>368 rows × 2 columns</p>\n",
       "</div>"
      ],
      "text/plain": [
       "      Actual price  Predicted price\n",
       "556          20999     22017.790000\n",
       "1386          1250      2483.424167\n",
       "1450         16499     17058.820000\n",
       "111          14999     15580.490000\n",
       "1787         15999     16023.820000\n",
       "...            ...              ...\n",
       "790          13999     12769.560000\n",
       "846          10990     11003.490000\n",
       "654          13499     13463.500000\n",
       "1084         36600     47101.670000\n",
       "1574         36990     40917.383333\n",
       "\n",
       "[368 rows x 2 columns]"
      ]
     },
     "execution_count": 29,
     "metadata": {},
     "output_type": "execute_result"
    }
   ],
   "source": [
    "## to check how poor the prediction above is.\n",
    "\n",
    "OUTCOME = {\n",
    "    \"Actual price\":ytest,\n",
    "    \"Predicted price\":pred3\n",
    "}\n",
    "df3=pd.DataFrame(OUTCOME)\n",
    "df3"
   ]
  },
  {
   "cell_type": "code",
   "execution_count": 34,
   "id": "facf6031-ae10-4da3-9a23-c99d492b13fd",
   "metadata": {
    "tags": []
   },
   "outputs": [
    {
     "data": {
      "text/plain": [
       "<Axes: xlabel='Price in INR'>"
      ]
     },
     "execution_count": 34,
     "metadata": {},
     "output_type": "execute_result"
    },
    {
     "data": {
      "image/png": "[encoded data removed]",
      "text/plain": [
       "<Figure size 640x480 with 1 Axes>"
      ]
     },
     "metadata": {},
     "output_type": "display_data"
    }
   ],
   "source": [
    "## SHOWING HOW THE REGRESSION WORK\n",
    "sns.regplot(x=ytest, y=pred1)"
   ]
  },
  {
   "cell_type": "code",
   "execution_count": 31,
   "id": "09bf72d4-5086-4a47-8322-1e06e994c92f",
   "metadata": {
    "tags": []
   },
   "outputs": [
    {
     "data": {
      "text/plain": [
       "<Axes: xlabel='Price in INR'>"
      ]
     },
     "execution_count": 31,
     "metadata": {},
     "output_type": "execute_result"
    },
    {
     "data": {
      "image/png": "[encoded data removed]",
      "text/plain": [
       "<Figure size 640x480 with 1 Axes>"
      ]
     },
     "metadata": {},
     "output_type": "display_data"
    }
   ],
   "source": [
    "sns.regplot(x=ytest, y=pred2)"
   ]
  },
  {
   "cell_type": "code",
   "execution_count": 32,
   "id": "1882b861-47a0-4049-96bc-4779d985aa4f",
   "metadata": {
    "tags": []
   },
   "outputs": [
    {
     "data": {
      "text/plain": [
       "<Axes: xlabel='Price in INR'>"
      ]
     },
     "execution_count": 32,
     "metadata": {},
     "output_type": "execute_result"
    },
    {
     "data": {
      "image/png": "[encoded data removed]",
      "text/plain": [
       "<Figure size 640x480 with 1 Axes>"
      ]
     },
     "metadata": {},
     "output_type": "display_data"
    }
   ],
   "source": [
    "sns.regplot(x=ytest, y=pred3)"
   ]
  },
  {
   "cell_type": "code",
   "execution_count": null,
   "id": "a04caeb2-1853-4fc4-b60c-40dbb71884fc",
   "metadata": {},
   "outputs": [],
   "source": []
  }
 ],
 "metadata": {
  "kernelspec": {
   "display_name": "Python 3 (ipykernel)",
   "language": "python",
   "name": "python3"
  },
  "language_info": {
   "codemirror_mode": {
    "name": "ipython",
    "version": 3
   },
   "file_extension": ".py",
   "mimetype": "text/x-python",
   "name": "python",
   "nbconvert_exporter": "python",
   "pygments_lexer": "ipython3",
   "version": "3.11.5"
  }
 },
 "nbformat": 4,
 "nbformat_minor": 5
}
