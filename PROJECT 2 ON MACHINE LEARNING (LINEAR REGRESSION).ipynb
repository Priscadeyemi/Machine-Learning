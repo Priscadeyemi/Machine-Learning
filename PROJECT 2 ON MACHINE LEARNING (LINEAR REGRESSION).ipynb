{
 "cells": [
  {
   "cell_type": "code",
   "execution_count": 1,
   "id": "8745b347-70ab-4d46-9e5a-f8f6e9778342",
   "metadata": {
    "tags": []
   },
   "outputs": [],
   "source": [
    "import numpy as np\n",
    "import pandas as pd\n",
    "import matplotlib.pyplot as plt\n",
    "import seaborn as sns\n",
    "import plotly.express as px\n",
    "from sklearn.model_selection import train_test_split\n",
    "from sklearn.preprocessing import StandardScaler, LabelEncoder\n",
    "from sklearn.linear_model import LinearRegression, Lasso, Ridge, ElasticNet\n",
    "from sklearn.tree import DecisionTreeRegressor\n",
    "from sklearn.svm import SVR\n",
    "from sklearn.ensemble import RandomForestRegressor\n",
    "from sklearn.neural_network import MLPRegressor\n",
    "from sklearn.metrics import r2_score, mean_absolute_error, mean_absolute_percentage_error, mean_squared_error\n",
    "from sklearn.feature_selection import mutual_info_classif, mutual_info_regression"
   ]
  },
  {
   "cell_type": "code",
   "execution_count": 2,
   "id": "8d27631c-875c-48ac-92ef-094c6c11c0a6",
   "metadata": {
    "tags": []
   },
   "outputs": [
    {
     "data": {
      "text/html": [
       "<div>\n",
       "<style scoped>\n",
       "    .dataframe tbody tr th:only-of-type {\n",
       "        vertical-align: middle;\n",
       "    }\n",
       "\n",
       "    .dataframe tbody tr th {\n",
       "        vertical-align: top;\n",
       "    }\n",
       "\n",
       "    .dataframe thead th {\n",
       "        text-align: right;\n",
       "    }\n",
       "</style>\n",
       "<table border=\"1\" class=\"dataframe\">\n",
       "  <thead>\n",
       "    <tr style=\"text-align: right;\">\n",
       "      <th></th>\n",
       "      <th>Zip Code</th>\n",
       "      <th>Price</th>\n",
       "      <th>Beds</th>\n",
       "      <th>Baths</th>\n",
       "      <th>Living Space</th>\n",
       "      <th>Address</th>\n",
       "      <th>City</th>\n",
       "      <th>State</th>\n",
       "      <th>Zip Code Population</th>\n",
       "      <th>Zip Code Density</th>\n",
       "      <th>County</th>\n",
       "      <th>Median Household Income</th>\n",
       "      <th>Latitude</th>\n",
       "      <th>Longitude</th>\n",
       "    </tr>\n",
       "  </thead>\n",
       "  <tbody>\n",
       "    <tr>\n",
       "      <th>0</th>\n",
       "      <td>10013</td>\n",
       "      <td>3999000.0</td>\n",
       "      <td>2</td>\n",
       "      <td>3</td>\n",
       "      <td>1967</td>\n",
       "      <td>74 GRAND ST APT 3</td>\n",
       "      <td>New York</td>\n",
       "      <td>New York</td>\n",
       "      <td>29563</td>\n",
       "      <td>20967.9</td>\n",
       "      <td>New York</td>\n",
       "      <td>370046.0</td>\n",
       "      <td>40.72001</td>\n",
       "      <td>-74.00472</td>\n",
       "    </tr>\n",
       "    <tr>\n",
       "      <th>1</th>\n",
       "      <td>10013</td>\n",
       "      <td>3999000.0</td>\n",
       "      <td>2</td>\n",
       "      <td>3</td>\n",
       "      <td>1967</td>\n",
       "      <td>74 GRAND ST APT 3</td>\n",
       "      <td>New York</td>\n",
       "      <td>New York</td>\n",
       "      <td>29563</td>\n",
       "      <td>20967.9</td>\n",
       "      <td>New York</td>\n",
       "      <td>370046.0</td>\n",
       "      <td>40.72001</td>\n",
       "      <td>-74.00472</td>\n",
       "    </tr>\n",
       "    <tr>\n",
       "      <th>2</th>\n",
       "      <td>10014</td>\n",
       "      <td>1650000.0</td>\n",
       "      <td>1</td>\n",
       "      <td>1</td>\n",
       "      <td>718</td>\n",
       "      <td>140 CHARLES ST APT 4D</td>\n",
       "      <td>New York</td>\n",
       "      <td>New York</td>\n",
       "      <td>29815</td>\n",
       "      <td>23740.9</td>\n",
       "      <td>New York</td>\n",
       "      <td>249880.0</td>\n",
       "      <td>40.73407</td>\n",
       "      <td>-74.00601</td>\n",
       "    </tr>\n",
       "    <tr>\n",
       "      <th>3</th>\n",
       "      <td>10014</td>\n",
       "      <td>760000.0</td>\n",
       "      <td>3</td>\n",
       "      <td>2</td>\n",
       "      <td>1538</td>\n",
       "      <td>38 JONES ST</td>\n",
       "      <td>New York</td>\n",
       "      <td>New York</td>\n",
       "      <td>29815</td>\n",
       "      <td>23740.9</td>\n",
       "      <td>New York</td>\n",
       "      <td>249880.0</td>\n",
       "      <td>40.73407</td>\n",
       "      <td>-74.00601</td>\n",
       "    </tr>\n",
       "    <tr>\n",
       "      <th>4</th>\n",
       "      <td>10014</td>\n",
       "      <td>1100000.0</td>\n",
       "      <td>1</td>\n",
       "      <td>1</td>\n",
       "      <td>600</td>\n",
       "      <td>81 BEDFORD ST APT 3F</td>\n",
       "      <td>New York</td>\n",
       "      <td>New York</td>\n",
       "      <td>29815</td>\n",
       "      <td>23740.9</td>\n",
       "      <td>New York</td>\n",
       "      <td>249880.0</td>\n",
       "      <td>40.73407</td>\n",
       "      <td>-74.00601</td>\n",
       "    </tr>\n",
       "  </tbody>\n",
       "</table>\n",
       "</div>"
      ],
      "text/plain": [
       "   Zip Code      Price  Beds  Baths  Living Space                Address  \\\n",
       "0     10013  3999000.0     2      3          1967      74 GRAND ST APT 3   \n",
       "1     10013  3999000.0     2      3          1967      74 GRAND ST APT 3   \n",
       "2     10014  1650000.0     1      1           718  140 CHARLES ST APT 4D   \n",
       "3     10014   760000.0     3      2          1538            38 JONES ST   \n",
       "4     10014  1100000.0     1      1           600   81 BEDFORD ST APT 3F   \n",
       "\n",
       "       City     State  Zip Code Population  Zip Code Density    County  \\\n",
       "0  New York  New York                29563           20967.9  New York   \n",
       "1  New York  New York                29563           20967.9  New York   \n",
       "2  New York  New York                29815           23740.9  New York   \n",
       "3  New York  New York                29815           23740.9  New York   \n",
       "4  New York  New York                29815           23740.9  New York   \n",
       "\n",
       "   Median Household Income  Latitude  Longitude  \n",
       "0                 370046.0  40.72001  -74.00472  \n",
       "1                 370046.0  40.72001  -74.00472  \n",
       "2                 249880.0  40.73407  -74.00601  \n",
       "3                 249880.0  40.73407  -74.00601  \n",
       "4                 249880.0  40.73407  -74.00601  "
      ]
     },
     "execution_count": 2,
     "metadata": {},
     "output_type": "execute_result"
    }
   ],
   "source": [
    "df=pd.read_csv(\"American_Housing_Data_20231209.csv\")\n",
    "df.head()"
   ]
  },
  {
   "cell_type": "code",
   "execution_count": 3,
   "id": "e3bf4e0f-5639-4b7c-88cf-1d3ebb3ddcba",
   "metadata": {
    "tags": []
   },
   "outputs": [
    {
     "data": {
      "text/plain": [
       "Zip Code                   0\n",
       "Price                      0\n",
       "Beds                       0\n",
       "Baths                      0\n",
       "Living Space               0\n",
       "Address                    0\n",
       "City                       0\n",
       "State                      0\n",
       "Zip Code Population        0\n",
       "Zip Code Density           0\n",
       "County                     0\n",
       "Median Household Income    2\n",
       "Latitude                   0\n",
       "Longitude                  0\n",
       "dtype: int64"
      ]
     },
     "execution_count": 3,
     "metadata": {},
     "output_type": "execute_result"
    }
   ],
   "source": [
    "df.isnull().sum()"
   ]
  },
  {
   "cell_type": "code",
   "execution_count": 4,
   "id": "58029f61-576c-4117-98ee-7bdb923cbeae",
   "metadata": {
    "tags": []
   },
   "outputs": [
    {
     "data": {
      "text/plain": [
       "(39981, 14)"
      ]
     },
     "execution_count": 4,
     "metadata": {},
     "output_type": "execute_result"
    }
   ],
   "source": [
    "df.shape"
   ]
  },
  {
   "cell_type": "code",
   "execution_count": 5,
   "id": "00a18d24-6777-44e5-b292-3ad2d8fc988d",
   "metadata": {
    "tags": []
   },
   "outputs": [
    {
     "name": "stdout",
     "output_type": "stream",
     "text": [
      "<class 'pandas.core.frame.DataFrame'>\n",
      "RangeIndex: 39981 entries, 0 to 39980\n",
      "Data columns (total 14 columns):\n",
      " #   Column                   Non-Null Count  Dtype  \n",
      "---  ------                   --------------  -----  \n",
      " 0   Zip Code                 39981 non-null  int64  \n",
      " 1   Price                    39981 non-null  float64\n",
      " 2   Beds                     39981 non-null  int64  \n",
      " 3   Baths                    39981 non-null  int64  \n",
      " 4   Living Space             39981 non-null  int64  \n",
      " 5   Address                  39981 non-null  object \n",
      " 6   City                     39981 non-null  object \n",
      " 7   State                    39981 non-null  object \n",
      " 8   Zip Code Population      39981 non-null  int64  \n",
      " 9   Zip Code Density         39981 non-null  float64\n",
      " 10  County                   39981 non-null  object \n",
      " 11  Median Household Income  39979 non-null  float64\n",
      " 12  Latitude                 39981 non-null  float64\n",
      " 13  Longitude                39981 non-null  float64\n",
      "dtypes: float64(5), int64(5), object(4)\n",
      "memory usage: 4.3+ MB\n"
     ]
    }
   ],
   "source": [
    "df.info()"
   ]
  },
  {
   "cell_type": "code",
   "execution_count": 6,
   "id": "b6d7f7e7-31ec-4950-a6ed-a72f92940a8e",
   "metadata": {
    "tags": []
   },
   "outputs": [],
   "source": [
    "df.drop([\"Median Household Income\"],axis=1,inplace=True)"
   ]
  },
  {
   "cell_type": "code",
   "execution_count": 7,
   "id": "ec6d4a53-3368-4d9f-b705-937995569e13",
   "metadata": {
    "tags": []
   },
   "outputs": [
    {
     "data": {
      "text/html": [
       "<div>\n",
       "<style scoped>\n",
       "    .dataframe tbody tr th:only-of-type {\n",
       "        vertical-align: middle;\n",
       "    }\n",
       "\n",
       "    .dataframe tbody tr th {\n",
       "        vertical-align: top;\n",
       "    }\n",
       "\n",
       "    .dataframe thead th {\n",
       "        text-align: right;\n",
       "    }\n",
       "</style>\n",
       "<table border=\"1\" class=\"dataframe\">\n",
       "  <thead>\n",
       "    <tr style=\"text-align: right;\">\n",
       "      <th></th>\n",
       "      <th>Zip Code</th>\n",
       "      <th>Price</th>\n",
       "      <th>Beds</th>\n",
       "      <th>Baths</th>\n",
       "      <th>Living Space</th>\n",
       "      <th>Address</th>\n",
       "      <th>City</th>\n",
       "      <th>State</th>\n",
       "      <th>Zip Code Population</th>\n",
       "      <th>Zip Code Density</th>\n",
       "      <th>County</th>\n",
       "      <th>Latitude</th>\n",
       "      <th>Longitude</th>\n",
       "    </tr>\n",
       "  </thead>\n",
       "  <tbody>\n",
       "    <tr>\n",
       "      <th>0</th>\n",
       "      <td>10013</td>\n",
       "      <td>3999000.0</td>\n",
       "      <td>2</td>\n",
       "      <td>3</td>\n",
       "      <td>1967</td>\n",
       "      <td>33468</td>\n",
       "      <td>150</td>\n",
       "      <td>18</td>\n",
       "      <td>29563</td>\n",
       "      <td>20967.9</td>\n",
       "      <td>57</td>\n",
       "      <td>40.72001</td>\n",
       "      <td>-74.00472</td>\n",
       "    </tr>\n",
       "    <tr>\n",
       "      <th>1</th>\n",
       "      <td>10013</td>\n",
       "      <td>3999000.0</td>\n",
       "      <td>2</td>\n",
       "      <td>3</td>\n",
       "      <td>1967</td>\n",
       "      <td>33468</td>\n",
       "      <td>150</td>\n",
       "      <td>18</td>\n",
       "      <td>29563</td>\n",
       "      <td>20967.9</td>\n",
       "      <td>57</td>\n",
       "      <td>40.72001</td>\n",
       "      <td>-74.00472</td>\n",
       "    </tr>\n",
       "    <tr>\n",
       "      <th>2</th>\n",
       "      <td>10014</td>\n",
       "      <td>1650000.0</td>\n",
       "      <td>1</td>\n",
       "      <td>1</td>\n",
       "      <td>718</td>\n",
       "      <td>5888</td>\n",
       "      <td>150</td>\n",
       "      <td>18</td>\n",
       "      <td>29815</td>\n",
       "      <td>23740.9</td>\n",
       "      <td>57</td>\n",
       "      <td>40.73407</td>\n",
       "      <td>-74.00601</td>\n",
       "    </tr>\n",
       "    <tr>\n",
       "      <th>3</th>\n",
       "      <td>10014</td>\n",
       "      <td>760000.0</td>\n",
       "      <td>3</td>\n",
       "      <td>2</td>\n",
       "      <td>1538</td>\n",
       "      <td>20579</td>\n",
       "      <td>150</td>\n",
       "      <td>18</td>\n",
       "      <td>29815</td>\n",
       "      <td>23740.9</td>\n",
       "      <td>57</td>\n",
       "      <td>40.73407</td>\n",
       "      <td>-74.00601</td>\n",
       "    </tr>\n",
       "    <tr>\n",
       "      <th>4</th>\n",
       "      <td>10014</td>\n",
       "      <td>1100000.0</td>\n",
       "      <td>1</td>\n",
       "      <td>1</td>\n",
       "      <td>600</td>\n",
       "      <td>35131</td>\n",
       "      <td>150</td>\n",
       "      <td>18</td>\n",
       "      <td>29815</td>\n",
       "      <td>23740.9</td>\n",
       "      <td>57</td>\n",
       "      <td>40.73407</td>\n",
       "      <td>-74.00601</td>\n",
       "    </tr>\n",
       "  </tbody>\n",
       "</table>\n",
       "</div>"
      ],
      "text/plain": [
       "   Zip Code      Price  Beds  Baths  Living Space  Address  City  State  \\\n",
       "0     10013  3999000.0     2      3          1967    33468   150     18   \n",
       "1     10013  3999000.0     2      3          1967    33468   150     18   \n",
       "2     10014  1650000.0     1      1           718     5888   150     18   \n",
       "3     10014   760000.0     3      2          1538    20579   150     18   \n",
       "4     10014  1100000.0     1      1           600    35131   150     18   \n",
       "\n",
       "   Zip Code Population  Zip Code Density  County  Latitude  Longitude  \n",
       "0                29563           20967.9      57  40.72001  -74.00472  \n",
       "1                29563           20967.9      57  40.72001  -74.00472  \n",
       "2                29815           23740.9      57  40.73407  -74.00601  \n",
       "3                29815           23740.9      57  40.73407  -74.00601  \n",
       "4                29815           23740.9      57  40.73407  -74.00601  "
      ]
     },
     "execution_count": 7,
     "metadata": {},
     "output_type": "execute_result"
    }
   ],
   "source": [
    "## covert categorical to numerical\n",
    "encoder=LabelEncoder()\n",
    "category=df.select_dtypes(include=[\"object\", \"category\"])\n",
    "for x in category:\n",
    "    df[x]= encoder.fit_transform(df[x])\n",
    "df.head()"
   ]
  },
  {
   "cell_type": "code",
   "execution_count": 8,
   "id": "9c5f587f-2680-45f1-ac97-25bc93a67267",
   "metadata": {
    "tags": []
   },
   "outputs": [],
   "source": [
    "x=df.drop([\"Price\"],axis=1)## splitting x AND Y\n",
    "y=df[\"Price\"]"
   ]
  },
  {
   "cell_type": "code",
   "execution_count": 9,
   "id": "ba762f35-8f86-4904-a29b-9205b4a456a7",
   "metadata": {
    "tags": []
   },
   "outputs": [
    {
     "data": {
      "text/html": [
       "<div>\n",
       "<style scoped>\n",
       "    .dataframe tbody tr th:only-of-type {\n",
       "        vertical-align: middle;\n",
       "    }\n",
       "\n",
       "    .dataframe tbody tr th {\n",
       "        vertical-align: top;\n",
       "    }\n",
       "\n",
       "    .dataframe thead th {\n",
       "        text-align: right;\n",
       "    }\n",
       "</style>\n",
       "<table border=\"1\" class=\"dataframe\">\n",
       "  <thead>\n",
       "    <tr style=\"text-align: right;\">\n",
       "      <th></th>\n",
       "      <th>Zip Code</th>\n",
       "      <th>Beds</th>\n",
       "      <th>Baths</th>\n",
       "      <th>Living Space</th>\n",
       "      <th>Address</th>\n",
       "      <th>City</th>\n",
       "      <th>State</th>\n",
       "      <th>Zip Code Population</th>\n",
       "      <th>Zip Code Density</th>\n",
       "      <th>County</th>\n",
       "      <th>Latitude</th>\n",
       "      <th>Longitude</th>\n",
       "    </tr>\n",
       "  </thead>\n",
       "  <tbody>\n",
       "    <tr>\n",
       "      <th>0</th>\n",
       "      <td>10013</td>\n",
       "      <td>2</td>\n",
       "      <td>3</td>\n",
       "      <td>1967</td>\n",
       "      <td>33468</td>\n",
       "      <td>150</td>\n",
       "      <td>18</td>\n",
       "      <td>29563</td>\n",
       "      <td>20967.9</td>\n",
       "      <td>57</td>\n",
       "      <td>40.72001</td>\n",
       "      <td>-74.00472</td>\n",
       "    </tr>\n",
       "    <tr>\n",
       "      <th>1</th>\n",
       "      <td>10013</td>\n",
       "      <td>2</td>\n",
       "      <td>3</td>\n",
       "      <td>1967</td>\n",
       "      <td>33468</td>\n",
       "      <td>150</td>\n",
       "      <td>18</td>\n",
       "      <td>29563</td>\n",
       "      <td>20967.9</td>\n",
       "      <td>57</td>\n",
       "      <td>40.72001</td>\n",
       "      <td>-74.00472</td>\n",
       "    </tr>\n",
       "    <tr>\n",
       "      <th>2</th>\n",
       "      <td>10014</td>\n",
       "      <td>1</td>\n",
       "      <td>1</td>\n",
       "      <td>718</td>\n",
       "      <td>5888</td>\n",
       "      <td>150</td>\n",
       "      <td>18</td>\n",
       "      <td>29815</td>\n",
       "      <td>23740.9</td>\n",
       "      <td>57</td>\n",
       "      <td>40.73407</td>\n",
       "      <td>-74.00601</td>\n",
       "    </tr>\n",
       "    <tr>\n",
       "      <th>3</th>\n",
       "      <td>10014</td>\n",
       "      <td>3</td>\n",
       "      <td>2</td>\n",
       "      <td>1538</td>\n",
       "      <td>20579</td>\n",
       "      <td>150</td>\n",
       "      <td>18</td>\n",
       "      <td>29815</td>\n",
       "      <td>23740.9</td>\n",
       "      <td>57</td>\n",
       "      <td>40.73407</td>\n",
       "      <td>-74.00601</td>\n",
       "    </tr>\n",
       "    <tr>\n",
       "      <th>4</th>\n",
       "      <td>10014</td>\n",
       "      <td>1</td>\n",
       "      <td>1</td>\n",
       "      <td>600</td>\n",
       "      <td>35131</td>\n",
       "      <td>150</td>\n",
       "      <td>18</td>\n",
       "      <td>29815</td>\n",
       "      <td>23740.9</td>\n",
       "      <td>57</td>\n",
       "      <td>40.73407</td>\n",
       "      <td>-74.00601</td>\n",
       "    </tr>\n",
       "  </tbody>\n",
       "</table>\n",
       "</div>"
      ],
      "text/plain": [
       "   Zip Code  Beds  Baths  Living Space  Address  City  State  \\\n",
       "0     10013     2      3          1967    33468   150     18   \n",
       "1     10013     2      3          1967    33468   150     18   \n",
       "2     10014     1      1           718     5888   150     18   \n",
       "3     10014     3      2          1538    20579   150     18   \n",
       "4     10014     1      1           600    35131   150     18   \n",
       "\n",
       "   Zip Code Population  Zip Code Density  County  Latitude  Longitude  \n",
       "0                29563           20967.9      57  40.72001  -74.00472  \n",
       "1                29563           20967.9      57  40.72001  -74.00472  \n",
       "2                29815           23740.9      57  40.73407  -74.00601  \n",
       "3                29815           23740.9      57  40.73407  -74.00601  \n",
       "4                29815           23740.9      57  40.73407  -74.00601  "
      ]
     },
     "execution_count": 9,
     "metadata": {},
     "output_type": "execute_result"
    }
   ],
   "source": [
    "x.head()"
   ]
  },
  {
   "cell_type": "code",
   "execution_count": 10,
   "id": "7093ff09-443f-4a3f-a0d4-817115b5db79",
   "metadata": {
    "tags": []
   },
   "outputs": [
    {
     "data": {
      "text/plain": [
       "0    3999000.0\n",
       "1    3999000.0\n",
       "2    1650000.0\n",
       "3     760000.0\n",
       "4    1100000.0\n",
       "Name: Price, dtype: float64"
      ]
     },
     "execution_count": 10,
     "metadata": {},
     "output_type": "execute_result"
    }
   ],
   "source": [
    "y.head()"
   ]
  },
  {
   "cell_type": "code",
   "execution_count": 11,
   "id": "aac8b7b5-7c53-46e8-a11c-67d48ffe27b2",
   "metadata": {
    "tags": []
   },
   "outputs": [
    {
     "name": "stdout",
     "output_type": "stream",
     "text": [
      "Zip Code               0\n",
      "Beds                   0\n",
      "Baths                  0\n",
      "Living Space           0\n",
      "Address                0\n",
      "City                   0\n",
      "State                  0\n",
      "Zip Code Population    0\n",
      "Zip Code Density       0\n",
      "County                 0\n",
      "Latitude               0\n",
      "Longitude              0\n",
      "dtype: int64\n"
     ]
    }
   ],
   "source": [
    "print(x.isnull().sum())"
   ]
  },
  {
   "cell_type": "code",
   "execution_count": 12,
   "id": "5b823c66-d309-4522-ad9b-796de52255f4",
   "metadata": {
    "tags": []
   },
   "outputs": [
    {
     "name": "stdout",
     "output_type": "stream",
     "text": [
      "0\n"
     ]
    }
   ],
   "source": [
    "print(y.isnull().sum())"
   ]
  },
  {
   "cell_type": "code",
   "execution_count": 13,
   "id": "d63193b0-ff8a-44f3-a4d2-d674be262d53",
   "metadata": {
    "tags": []
   },
   "outputs": [
    {
     "data": {
      "image/png": "[encoded data removed]",
      "text/plain": [
       "<Figure size 640x480 with 1 Axes>"
      ]
     },
     "metadata": {},
     "output_type": "display_data"
    }
   ],
   "source": [
    "from sklearn.feature_selection import mutual_info_classif, mutual_info_regression\n",
    "plt.style.use(\"ggplot\")\n",
    "importance= mutual_info_regression(x,y)\n",
    "feature_impo=pd.Series(importance,x.columns[0:len(x.columns)])\n",
    "feature_impo.plot(kind=\"barh\", color=\"blue\")\n",
    "plt.show()"
   ]
  },
  {
   "cell_type": "code",
   "execution_count": 14,
   "id": "0a35ea90-52fa-47e6-9dbf-925b7591c0b6",
   "metadata": {
    "tags": []
   },
   "outputs": [],
   "source": [
    "## splitting the dataset into training and testing set\n",
    "xtrain, xtest, ytrain, ytest= train_test_split(x,y, test_size=0.2,random_state=1)"
   ]
  },
  {
   "cell_type": "code",
   "execution_count": 15,
   "id": "72cc2124-df89-470a-8c0a-8f8d133d729e",
   "metadata": {
    "tags": []
   },
   "outputs": [
    {
     "data": {
      "text/html": [
       "<style>#sk-container-id-1 {color: black;}#sk-container-id-1 pre{padding: 0;}#sk-container-id-1 div.sk-toggleable {background-color: white;}#sk-container-id-1 label.sk-toggleable__label {cursor: pointer;display: block;width: 100%;margin-bottom: 0;padding: 0.3em;box-sizing: border-box;text-align: center;}#sk-container-id-1 label.sk-toggleable__label-arrow:before {content: \"▸\";float: left;margin-right: 0.25em;color: #696969;}#sk-container-id-1 label.sk-toggleable__label-arrow:hover:before {color: black;}#sk-container-id-1 div.sk-estimator:hover label.sk-toggleable__label-arrow:before {color: black;}#sk-container-id-1 div.sk-toggleable__content {max-height: 0;max-width: 0;overflow: hidden;text-align: left;background-color: #f0f8ff;}#sk-container-id-1 div.sk-toggleable__content pre {margin: 0.2em;color: black;border-radius: 0.25em;background-color: #f0f8ff;}#sk-container-id-1 input.sk-toggleable__control:checked~div.sk-toggleable__content {max-height: 200px;max-width: 100%;overflow: auto;}#sk-container-id-1 input.sk-toggleable__control:checked~label.sk-toggleable__label-arrow:before {content: \"▾\";}#sk-container-id-1 div.sk-estimator input.sk-toggleable__control:checked~label.sk-toggleable__label {background-color: #d4ebff;}#sk-container-id-1 div.sk-label input.sk-toggleable__control:checked~label.sk-toggleable__label {background-color: #d4ebff;}#sk-container-id-1 input.sk-hidden--visually {border: 0;clip: rect(1px 1px 1px 1px);clip: rect(1px, 1px, 1px, 1px);height: 1px;margin: -1px;overflow: hidden;padding: 0;position: absolute;width: 1px;}#sk-container-id-1 div.sk-estimator {font-family: monospace;background-color: #f0f8ff;border: 1px dotted black;border-radius: 0.25em;box-sizing: border-box;margin-bottom: 0.5em;}#sk-container-id-1 div.sk-estimator:hover {background-color: #d4ebff;}#sk-container-id-1 div.sk-parallel-item::after {content: \"\";width: 100%;border-bottom: 1px solid gray;flex-grow: 1;}#sk-container-id-1 div.sk-label:hover label.sk-toggleable__label {background-color: #d4ebff;}#sk-container-id-1 div.sk-serial::before {content: \"\";position: absolute;border-left: 1px solid gray;box-sizing: border-box;top: 0;bottom: 0;left: 50%;z-index: 0;}#sk-container-id-1 div.sk-serial {display: flex;flex-direction: column;align-items: center;background-color: white;padding-right: 0.2em;padding-left: 0.2em;position: relative;}#sk-container-id-1 div.sk-item {position: relative;z-index: 1;}#sk-container-id-1 div.sk-parallel {display: flex;align-items: stretch;justify-content: center;background-color: white;position: relative;}#sk-container-id-1 div.sk-item::before, #sk-container-id-1 div.sk-parallel-item::before {content: \"\";position: absolute;border-left: 1px solid gray;box-sizing: border-box;top: 0;bottom: 0;left: 50%;z-index: -1;}#sk-container-id-1 div.sk-parallel-item {display: flex;flex-direction: column;z-index: 1;position: relative;background-color: white;}#sk-container-id-1 div.sk-parallel-item:first-child::after {align-self: flex-end;width: 50%;}#sk-container-id-1 div.sk-parallel-item:last-child::after {align-self: flex-start;width: 50%;}#sk-container-id-1 div.sk-parallel-item:only-child::after {width: 0;}#sk-container-id-1 div.sk-dashed-wrapped {border: 1px dashed gray;margin: 0 0.4em 0.5em 0.4em;box-sizing: border-box;padding-bottom: 0.4em;background-color: white;}#sk-container-id-1 div.sk-label label {font-family: monospace;font-weight: bold;display: inline-block;line-height: 1.2em;}#sk-container-id-1 div.sk-label-container {text-align: center;}#sk-container-id-1 div.sk-container {/* jupyter's `normalize.less` sets `[hidden] { display: none; }` but bootstrap.min.css set `[hidden] { display: none !important; }` so we also need the `!important` here to be able to override the default hidden behavior on the sphinx rendered scikit-learn.org. See: https://github.com/scikit-learn/scikit-learn/issues/21755 */display: inline-block !important;position: relative;}#sk-container-id-1 div.sk-text-repr-fallback {display: none;}</style><div id=\"sk-container-id-1\" class=\"sk-top-container\"><div class=\"sk-text-repr-fallback\"><pre>LinearRegression()</pre><b>In a Jupyter environment, please rerun this cell to show the HTML representation or trust the notebook. <br />On GitHub, the HTML representation is unable to render, please try loading this page with nbviewer.org.</b></div><div class=\"sk-container\" hidden><div class=\"sk-item\"><div class=\"sk-estimator sk-toggleable\"><input class=\"sk-toggleable__control sk-hidden--visually\" id=\"sk-estimator-id-1\" type=\"checkbox\" checked><label for=\"sk-estimator-id-1\" class=\"sk-toggleable__label sk-toggleable__label-arrow\">LinearRegression</label><div class=\"sk-toggleable__content\"><pre>LinearRegression()</pre></div></div></div></div></div>"
      ],
      "text/plain": [
       "LinearRegression()"
      ]
     },
     "execution_count": 15,
     "metadata": {},
     "output_type": "execute_result"
    }
   ],
   "source": [
    "# Initialize linear regression model\n",
    "Model = LinearRegression()\n",
    "Model.fit(xtrain, ytrain)"
   ]
  },
  {
   "cell_type": "code",
   "execution_count": 16,
   "id": "d60a536b-db38-4868-ba31-dfec89e14a5a",
   "metadata": {
    "tags": []
   },
   "outputs": [
    {
     "data": {
      "text/html": [
       "<style>#sk-container-id-2 {color: black;}#sk-container-id-2 pre{padding: 0;}#sk-container-id-2 div.sk-toggleable {background-color: white;}#sk-container-id-2 label.sk-toggleable__label {cursor: pointer;display: block;width: 100%;margin-bottom: 0;padding: 0.3em;box-sizing: border-box;text-align: center;}#sk-container-id-2 label.sk-toggleable__label-arrow:before {content: \"▸\";float: left;margin-right: 0.25em;color: #696969;}#sk-container-id-2 label.sk-toggleable__label-arrow:hover:before {color: black;}#sk-container-id-2 div.sk-estimator:hover label.sk-toggleable__label-arrow:before {color: black;}#sk-container-id-2 div.sk-toggleable__content {max-height: 0;max-width: 0;overflow: hidden;text-align: left;background-color: #f0f8ff;}#sk-container-id-2 div.sk-toggleable__content pre {margin: 0.2em;color: black;border-radius: 0.25em;background-color: #f0f8ff;}#sk-container-id-2 input.sk-toggleable__control:checked~div.sk-toggleable__content {max-height: 200px;max-width: 100%;overflow: auto;}#sk-container-id-2 input.sk-toggleable__control:checked~label.sk-toggleable__label-arrow:before {content: \"▾\";}#sk-container-id-2 div.sk-estimator input.sk-toggleable__control:checked~label.sk-toggleable__label {background-color: #d4ebff;}#sk-container-id-2 div.sk-label input.sk-toggleable__control:checked~label.sk-toggleable__label {background-color: #d4ebff;}#sk-container-id-2 input.sk-hidden--visually {border: 0;clip: rect(1px 1px 1px 1px);clip: rect(1px, 1px, 1px, 1px);height: 1px;margin: -1px;overflow: hidden;padding: 0;position: absolute;width: 1px;}#sk-container-id-2 div.sk-estimator {font-family: monospace;background-color: #f0f8ff;border: 1px dotted black;border-radius: 0.25em;box-sizing: border-box;margin-bottom: 0.5em;}#sk-container-id-2 div.sk-estimator:hover {background-color: #d4ebff;}#sk-container-id-2 div.sk-parallel-item::after {content: \"\";width: 100%;border-bottom: 1px solid gray;flex-grow: 1;}#sk-container-id-2 div.sk-label:hover label.sk-toggleable__label {background-color: #d4ebff;}#sk-container-id-2 div.sk-serial::before {content: \"\";position: absolute;border-left: 1px solid gray;box-sizing: border-box;top: 0;bottom: 0;left: 50%;z-index: 0;}#sk-container-id-2 div.sk-serial {display: flex;flex-direction: column;align-items: center;background-color: white;padding-right: 0.2em;padding-left: 0.2em;position: relative;}#sk-container-id-2 div.sk-item {position: relative;z-index: 1;}#sk-container-id-2 div.sk-parallel {display: flex;align-items: stretch;justify-content: center;background-color: white;position: relative;}#sk-container-id-2 div.sk-item::before, #sk-container-id-2 div.sk-parallel-item::before {content: \"\";position: absolute;border-left: 1px solid gray;box-sizing: border-box;top: 0;bottom: 0;left: 50%;z-index: -1;}#sk-container-id-2 div.sk-parallel-item {display: flex;flex-direction: column;z-index: 1;position: relative;background-color: white;}#sk-container-id-2 div.sk-parallel-item:first-child::after {align-self: flex-end;width: 50%;}#sk-container-id-2 div.sk-parallel-item:last-child::after {align-self: flex-start;width: 50%;}#sk-container-id-2 div.sk-parallel-item:only-child::after {width: 0;}#sk-container-id-2 div.sk-dashed-wrapped {border: 1px dashed gray;margin: 0 0.4em 0.5em 0.4em;box-sizing: border-box;padding-bottom: 0.4em;background-color: white;}#sk-container-id-2 div.sk-label label {font-family: monospace;font-weight: bold;display: inline-block;line-height: 1.2em;}#sk-container-id-2 div.sk-label-container {text-align: center;}#sk-container-id-2 div.sk-container {/* jupyter's `normalize.less` sets `[hidden] { display: none; }` but bootstrap.min.css set `[hidden] { display: none !important; }` so we also need the `!important` here to be able to override the default hidden behavior on the sphinx rendered scikit-learn.org. See: https://github.com/scikit-learn/scikit-learn/issues/21755 */display: inline-block !important;position: relative;}#sk-container-id-2 div.sk-text-repr-fallback {display: none;}</style><div id=\"sk-container-id-2\" class=\"sk-top-container\"><div class=\"sk-text-repr-fallback\"><pre>Pipeline(steps=[(&#x27;Scaler&#x27;, StandardScaler()),\n",
       "                (&#x27;Regression&#x27;, LinearRegression())])</pre><b>In a Jupyter environment, please rerun this cell to show the HTML representation or trust the notebook. <br />On GitHub, the HTML representation is unable to render, please try loading this page with nbviewer.org.</b></div><div class=\"sk-container\" hidden><div class=\"sk-item sk-dashed-wrapped\"><div class=\"sk-label-container\"><div class=\"sk-label sk-toggleable\"><input class=\"sk-toggleable__control sk-hidden--visually\" id=\"sk-estimator-id-2\" type=\"checkbox\" ><label for=\"sk-estimator-id-2\" class=\"sk-toggleable__label sk-toggleable__label-arrow\">Pipeline</label><div class=\"sk-toggleable__content\"><pre>Pipeline(steps=[(&#x27;Scaler&#x27;, StandardScaler()),\n",
       "                (&#x27;Regression&#x27;, LinearRegression())])</pre></div></div></div><div class=\"sk-serial\"><div class=\"sk-item\"><div class=\"sk-estimator sk-toggleable\"><input class=\"sk-toggleable__control sk-hidden--visually\" id=\"sk-estimator-id-3\" type=\"checkbox\" ><label for=\"sk-estimator-id-3\" class=\"sk-toggleable__label sk-toggleable__label-arrow\">StandardScaler</label><div class=\"sk-toggleable__content\"><pre>StandardScaler()</pre></div></div></div><div class=\"sk-item\"><div class=\"sk-estimator sk-toggleable\"><input class=\"sk-toggleable__control sk-hidden--visually\" id=\"sk-estimator-id-4\" type=\"checkbox\" ><label for=\"sk-estimator-id-4\" class=\"sk-toggleable__label sk-toggleable__label-arrow\">LinearRegression</label><div class=\"sk-toggleable__content\"><pre>LinearRegression()</pre></div></div></div></div></div></div></div>"
      ],
      "text/plain": [
       "Pipeline(steps=[('Scaler', StandardScaler()),\n",
       "                ('Regression', LinearRegression())])"
      ]
     },
     "execution_count": 16,
     "metadata": {},
     "output_type": "execute_result"
    }
   ],
   "source": [
    "# bringing in our machine learning algorithm\n",
    "from sklearn.pipeline import Pipeline\n",
    "LinearModel=Pipeline([(\"Scaler\",StandardScaler()),(\"Regression\",LinearRegression())])\n",
    "LinearModel.fit(xtrain,ytrain)                                                   "
   ]
  },
  {
   "cell_type": "code",
   "execution_count": 17,
   "id": "d8cde992-4c95-43ed-a6a7-2d0af92e41ee",
   "metadata": {},
   "outputs": [
    {
     "data": {
      "text/plain": [
       "array([771967.38889673, 864217.99903551, 801641.00073965, ...,\n",
       "       442184.64833379, 462640.97384736, -14044.85115074])"
      ]
     },
     "execution_count": 17,
     "metadata": {},
     "output_type": "execute_result"
    }
   ],
   "source": [
    "## testing the data set.\n",
    "pred1=LinearModel.predict(xtest)\n",
    "pred1"
   ]
  },
  {
   "cell_type": "code",
   "execution_count": 18,
   "id": "cf8bc7a3-2a20-43f0-988a-ec30fbe0a52a",
   "metadata": {
    "tags": []
   },
   "outputs": [
    {
     "name": "stdout",
     "output_type": "stream",
     "text": [
      "MAE 302296.55145575694\n",
      "MAPE 0.8493048348482284\n",
      "MsE 488337822022.7036\n",
      "R2 SCORE 0.4154966810049414\n"
     ]
    }
   ],
   "source": [
    "## checking how our model perform usin any of these from sklearn.metrics import r2_score, mean_absolute_error, mean_absolute_percentage_error, mean_squared_error\n",
    "print(\"MAE\",mean_absolute_error(ytest, pred1))\n",
    "print(\"MAPE\",mean_absolute_percentage_error (ytest,pred1))\n",
    "print(\"MsE\",mean_squared_error (ytest,pred1))\n",
    "print(\"R2 SCORE\",r2_score(ytest,pred1))"
   ]
  },
  {
   "cell_type": "code",
   "execution_count": 19,
   "id": "bbe0ad26-9d7b-42e3-8384-22f3e490b802",
   "metadata": {
    "tags": []
   },
   "outputs": [
    {
     "data": {
      "text/html": [
       "<div>\n",
       "<style scoped>\n",
       "    .dataframe tbody tr th:only-of-type {\n",
       "        vertical-align: middle;\n",
       "    }\n",
       "\n",
       "    .dataframe tbody tr th {\n",
       "        vertical-align: top;\n",
       "    }\n",
       "\n",
       "    .dataframe thead th {\n",
       "        text-align: right;\n",
       "    }\n",
       "</style>\n",
       "<table border=\"1\" class=\"dataframe\">\n",
       "  <thead>\n",
       "    <tr style=\"text-align: right;\">\n",
       "      <th></th>\n",
       "      <th>Actual price</th>\n",
       "      <th>Predicted price</th>\n",
       "    </tr>\n",
       "  </thead>\n",
       "  <tbody>\n",
       "    <tr>\n",
       "      <th>33280</th>\n",
       "      <td>959000.0</td>\n",
       "      <td>771967.388897</td>\n",
       "    </tr>\n",
       "    <tr>\n",
       "      <th>21569</th>\n",
       "      <td>650000.0</td>\n",
       "      <td>864217.999036</td>\n",
       "    </tr>\n",
       "    <tr>\n",
       "      <th>33018</th>\n",
       "      <td>700000.0</td>\n",
       "      <td>801641.000740</td>\n",
       "    </tr>\n",
       "    <tr>\n",
       "      <th>1305</th>\n",
       "      <td>329900.0</td>\n",
       "      <td>765283.695758</td>\n",
       "    </tr>\n",
       "    <tr>\n",
       "      <th>30217</th>\n",
       "      <td>498750.0</td>\n",
       "      <td>705949.146469</td>\n",
       "    </tr>\n",
       "    <tr>\n",
       "      <th>...</th>\n",
       "      <td>...</td>\n",
       "      <td>...</td>\n",
       "    </tr>\n",
       "    <tr>\n",
       "      <th>23066</th>\n",
       "      <td>265000.0</td>\n",
       "      <td>212953.316634</td>\n",
       "    </tr>\n",
       "    <tr>\n",
       "      <th>15574</th>\n",
       "      <td>165000.0</td>\n",
       "      <td>226240.495809</td>\n",
       "    </tr>\n",
       "    <tr>\n",
       "      <th>18753</th>\n",
       "      <td>775000.0</td>\n",
       "      <td>442184.648334</td>\n",
       "    </tr>\n",
       "    <tr>\n",
       "      <th>39015</th>\n",
       "      <td>525000.0</td>\n",
       "      <td>462640.973847</td>\n",
       "    </tr>\n",
       "    <tr>\n",
       "      <th>22908</th>\n",
       "      <td>229900.0</td>\n",
       "      <td>-14044.851151</td>\n",
       "    </tr>\n",
       "  </tbody>\n",
       "</table>\n",
       "<p>7997 rows × 2 columns</p>\n",
       "</div>"
      ],
      "text/plain": [
       "       Actual price  Predicted price\n",
       "33280      959000.0    771967.388897\n",
       "21569      650000.0    864217.999036\n",
       "33018      700000.0    801641.000740\n",
       "1305       329900.0    765283.695758\n",
       "30217      498750.0    705949.146469\n",
       "...             ...              ...\n",
       "23066      265000.0    212953.316634\n",
       "15574      165000.0    226240.495809\n",
       "18753      775000.0    442184.648334\n",
       "39015      525000.0    462640.973847\n",
       "22908      229900.0    -14044.851151\n",
       "\n",
       "[7997 rows x 2 columns]"
      ]
     },
     "execution_count": 19,
     "metadata": {},
     "output_type": "execute_result"
    }
   ],
   "source": [
    "## to check how poor the prediction above is.\n",
    "\n",
    "OUTCOME = {\n",
    "    \"Actual price\":ytest,\n",
    "    \"Predicted price\":pred1\n",
    "}\n",
    "df3=pd.DataFrame(OUTCOME)\n",
    "df3"
   ]
  },
  {
   "cell_type": "code",
   "execution_count": 20,
   "id": "bea564a8-3526-434f-9e4b-247e7460e439",
   "metadata": {
    "tags": []
   },
   "outputs": [
    {
     "data": {
      "text/html": [
       "<style>#sk-container-id-3 {color: black;}#sk-container-id-3 pre{padding: 0;}#sk-container-id-3 div.sk-toggleable {background-color: white;}#sk-container-id-3 label.sk-toggleable__label {cursor: pointer;display: block;width: 100%;margin-bottom: 0;padding: 0.3em;box-sizing: border-box;text-align: center;}#sk-container-id-3 label.sk-toggleable__label-arrow:before {content: \"▸\";float: left;margin-right: 0.25em;color: #696969;}#sk-container-id-3 label.sk-toggleable__label-arrow:hover:before {color: black;}#sk-container-id-3 div.sk-estimator:hover label.sk-toggleable__label-arrow:before {color: black;}#sk-container-id-3 div.sk-toggleable__content {max-height: 0;max-width: 0;overflow: hidden;text-align: left;background-color: #f0f8ff;}#sk-container-id-3 div.sk-toggleable__content pre {margin: 0.2em;color: black;border-radius: 0.25em;background-color: #f0f8ff;}#sk-container-id-3 input.sk-toggleable__control:checked~div.sk-toggleable__content {max-height: 200px;max-width: 100%;overflow: auto;}#sk-container-id-3 input.sk-toggleable__control:checked~label.sk-toggleable__label-arrow:before {content: \"▾\";}#sk-container-id-3 div.sk-estimator input.sk-toggleable__control:checked~label.sk-toggleable__label {background-color: #d4ebff;}#sk-container-id-3 div.sk-label input.sk-toggleable__control:checked~label.sk-toggleable__label {background-color: #d4ebff;}#sk-container-id-3 input.sk-hidden--visually {border: 0;clip: rect(1px 1px 1px 1px);clip: rect(1px, 1px, 1px, 1px);height: 1px;margin: -1px;overflow: hidden;padding: 0;position: absolute;width: 1px;}#sk-container-id-3 div.sk-estimator {font-family: monospace;background-color: #f0f8ff;border: 1px dotted black;border-radius: 0.25em;box-sizing: border-box;margin-bottom: 0.5em;}#sk-container-id-3 div.sk-estimator:hover {background-color: #d4ebff;}#sk-container-id-3 div.sk-parallel-item::after {content: \"\";width: 100%;border-bottom: 1px solid gray;flex-grow: 1;}#sk-container-id-3 div.sk-label:hover label.sk-toggleable__label {background-color: #d4ebff;}#sk-container-id-3 div.sk-serial::before {content: \"\";position: absolute;border-left: 1px solid gray;box-sizing: border-box;top: 0;bottom: 0;left: 50%;z-index: 0;}#sk-container-id-3 div.sk-serial {display: flex;flex-direction: column;align-items: center;background-color: white;padding-right: 0.2em;padding-left: 0.2em;position: relative;}#sk-container-id-3 div.sk-item {position: relative;z-index: 1;}#sk-container-id-3 div.sk-parallel {display: flex;align-items: stretch;justify-content: center;background-color: white;position: relative;}#sk-container-id-3 div.sk-item::before, #sk-container-id-3 div.sk-parallel-item::before {content: \"\";position: absolute;border-left: 1px solid gray;box-sizing: border-box;top: 0;bottom: 0;left: 50%;z-index: -1;}#sk-container-id-3 div.sk-parallel-item {display: flex;flex-direction: column;z-index: 1;position: relative;background-color: white;}#sk-container-id-3 div.sk-parallel-item:first-child::after {align-self: flex-end;width: 50%;}#sk-container-id-3 div.sk-parallel-item:last-child::after {align-self: flex-start;width: 50%;}#sk-container-id-3 div.sk-parallel-item:only-child::after {width: 0;}#sk-container-id-3 div.sk-dashed-wrapped {border: 1px dashed gray;margin: 0 0.4em 0.5em 0.4em;box-sizing: border-box;padding-bottom: 0.4em;background-color: white;}#sk-container-id-3 div.sk-label label {font-family: monospace;font-weight: bold;display: inline-block;line-height: 1.2em;}#sk-container-id-3 div.sk-label-container {text-align: center;}#sk-container-id-3 div.sk-container {/* jupyter's `normalize.less` sets `[hidden] { display: none; }` but bootstrap.min.css set `[hidden] { display: none !important; }` so we also need the `!important` here to be able to override the default hidden behavior on the sphinx rendered scikit-learn.org. See: https://github.com/scikit-learn/scikit-learn/issues/21755 */display: inline-block !important;position: relative;}#sk-container-id-3 div.sk-text-repr-fallback {display: none;}</style><div id=\"sk-container-id-3\" class=\"sk-top-container\"><div class=\"sk-text-repr-fallback\"><pre>DecisionTreeRegressor()</pre><b>In a Jupyter environment, please rerun this cell to show the HTML representation or trust the notebook. <br />On GitHub, the HTML representation is unable to render, please try loading this page with nbviewer.org.</b></div><div class=\"sk-container\" hidden><div class=\"sk-item\"><div class=\"sk-estimator sk-toggleable\"><input class=\"sk-toggleable__control sk-hidden--visually\" id=\"sk-estimator-id-5\" type=\"checkbox\" checked><label for=\"sk-estimator-id-5\" class=\"sk-toggleable__label sk-toggleable__label-arrow\">DecisionTreeRegressor</label><div class=\"sk-toggleable__content\"><pre>DecisionTreeRegressor()</pre></div></div></div></div></div>"
      ],
      "text/plain": [
       "DecisionTreeRegressor()"
      ]
     },
     "execution_count": 20,
     "metadata": {},
     "output_type": "execute_result"
    }
   ],
   "source": [
    "tree=DecisionTreeRegressor()\n",
    "tree.fit(xtrain,ytrain)"
   ]
  },
  {
   "cell_type": "code",
   "execution_count": 21,
   "id": "7f106238-36ed-4c17-b228-4332a34fdb8b",
   "metadata": {
    "tags": []
   },
   "outputs": [
    {
     "data": {
      "text/plain": [
       "array([1149000.,  550000.,  599000., ...,  775000.,  525000.,  179000.])"
      ]
     },
     "execution_count": 21,
     "metadata": {},
     "output_type": "execute_result"
    }
   ],
   "source": [
    "## testing the data set.\n",
    "pred2=tree.predict(xtest)\n",
    "pred2"
   ]
  },
  {
   "cell_type": "code",
   "execution_count": 22,
   "id": "184088a1-4261-4a1c-96ff-30bac9f78aef",
   "metadata": {
    "tags": []
   },
   "outputs": [
    {
     "name": "stdout",
     "output_type": "stream",
     "text": [
      "MAE 191466.2522066608\n",
      "MAPE 0.42739656808083853\n",
      "MsE 455579302657.1027\n",
      "R2 SCORE 0.4547061430434305\n"
     ]
    }
   ],
   "source": [
    "## checking how our model perform usin any of these from sklearn.metrics import r2_score, mean_absolute_error, mean_absolute_percentage_error, mean_squared_error\n",
    "print(\"MAE\",mean_absolute_error(ytest, pred2))\n",
    "print(\"MAPE\",mean_absolute_percentage_error (ytest,pred2))\n",
    "print(\"MsE\",mean_squared_error (ytest,pred2))\n",
    "print(\"R2 SCORE\",r2_score(ytest,pred2))"
   ]
  },
  {
   "cell_type": "code",
   "execution_count": 23,
   "id": "e6b2c64b-390b-4e22-a92d-c7a176cf514c",
   "metadata": {
    "tags": []
   },
   "outputs": [
    {
     "data": {
      "text/html": [
       "<div>\n",
       "<style scoped>\n",
       "    .dataframe tbody tr th:only-of-type {\n",
       "        vertical-align: middle;\n",
       "    }\n",
       "\n",
       "    .dataframe tbody tr th {\n",
       "        vertical-align: top;\n",
       "    }\n",
       "\n",
       "    .dataframe thead th {\n",
       "        text-align: right;\n",
       "    }\n",
       "</style>\n",
       "<table border=\"1\" class=\"dataframe\">\n",
       "  <thead>\n",
       "    <tr style=\"text-align: right;\">\n",
       "      <th></th>\n",
       "      <th>Actual price</th>\n",
       "      <th>Predicted price</th>\n",
       "    </tr>\n",
       "  </thead>\n",
       "  <tbody>\n",
       "    <tr>\n",
       "      <th>33280</th>\n",
       "      <td>959000.0</td>\n",
       "      <td>1149000.0</td>\n",
       "    </tr>\n",
       "    <tr>\n",
       "      <th>21569</th>\n",
       "      <td>650000.0</td>\n",
       "      <td>550000.0</td>\n",
       "    </tr>\n",
       "    <tr>\n",
       "      <th>33018</th>\n",
       "      <td>700000.0</td>\n",
       "      <td>599000.0</td>\n",
       "    </tr>\n",
       "    <tr>\n",
       "      <th>1305</th>\n",
       "      <td>329900.0</td>\n",
       "      <td>679000.0</td>\n",
       "    </tr>\n",
       "    <tr>\n",
       "      <th>30217</th>\n",
       "      <td>498750.0</td>\n",
       "      <td>324500.0</td>\n",
       "    </tr>\n",
       "    <tr>\n",
       "      <th>...</th>\n",
       "      <td>...</td>\n",
       "      <td>...</td>\n",
       "    </tr>\n",
       "    <tr>\n",
       "      <th>23066</th>\n",
       "      <td>265000.0</td>\n",
       "      <td>252000.0</td>\n",
       "    </tr>\n",
       "    <tr>\n",
       "      <th>15574</th>\n",
       "      <td>165000.0</td>\n",
       "      <td>219950.0</td>\n",
       "    </tr>\n",
       "    <tr>\n",
       "      <th>18753</th>\n",
       "      <td>775000.0</td>\n",
       "      <td>775000.0</td>\n",
       "    </tr>\n",
       "    <tr>\n",
       "      <th>39015</th>\n",
       "      <td>525000.0</td>\n",
       "      <td>525000.0</td>\n",
       "    </tr>\n",
       "    <tr>\n",
       "      <th>22908</th>\n",
       "      <td>229900.0</td>\n",
       "      <td>179000.0</td>\n",
       "    </tr>\n",
       "  </tbody>\n",
       "</table>\n",
       "<p>7997 rows × 2 columns</p>\n",
       "</div>"
      ],
      "text/plain": [
       "       Actual price  Predicted price\n",
       "33280      959000.0        1149000.0\n",
       "21569      650000.0         550000.0\n",
       "33018      700000.0         599000.0\n",
       "1305       329900.0         679000.0\n",
       "30217      498750.0         324500.0\n",
       "...             ...              ...\n",
       "23066      265000.0         252000.0\n",
       "15574      165000.0         219950.0\n",
       "18753      775000.0         775000.0\n",
       "39015      525000.0         525000.0\n",
       "22908      229900.0         179000.0\n",
       "\n",
       "[7997 rows x 2 columns]"
      ]
     },
     "execution_count": 23,
     "metadata": {},
     "output_type": "execute_result"
    }
   ],
   "source": [
    "## to check how poor the prediction above is.\n",
    "\n",
    "OUTCOME = {\n",
    "    \"Actual price\":ytest,\n",
    "    \"Predicted price\":pred2\n",
    "}\n",
    "df3=pd.DataFrame(OUTCOME)\n",
    "df3"
   ]
  },
  {
   "cell_type": "code",
   "execution_count": 24,
   "id": "3efd67a7-1d51-4cf7-8410-9b67b460f96e",
   "metadata": {
    "tags": []
   },
   "outputs": [
    {
     "data": {
      "text/html": [
       "<style>#sk-container-id-4 {color: black;}#sk-container-id-4 pre{padding: 0;}#sk-container-id-4 div.sk-toggleable {background-color: white;}#sk-container-id-4 label.sk-toggleable__label {cursor: pointer;display: block;width: 100%;margin-bottom: 0;padding: 0.3em;box-sizing: border-box;text-align: center;}#sk-container-id-4 label.sk-toggleable__label-arrow:before {content: \"▸\";float: left;margin-right: 0.25em;color: #696969;}#sk-container-id-4 label.sk-toggleable__label-arrow:hover:before {color: black;}#sk-container-id-4 div.sk-estimator:hover label.sk-toggleable__label-arrow:before {color: black;}#sk-container-id-4 div.sk-toggleable__content {max-height: 0;max-width: 0;overflow: hidden;text-align: left;background-color: #f0f8ff;}#sk-container-id-4 div.sk-toggleable__content pre {margin: 0.2em;color: black;border-radius: 0.25em;background-color: #f0f8ff;}#sk-container-id-4 input.sk-toggleable__control:checked~div.sk-toggleable__content {max-height: 200px;max-width: 100%;overflow: auto;}#sk-container-id-4 input.sk-toggleable__control:checked~label.sk-toggleable__label-arrow:before {content: \"▾\";}#sk-container-id-4 div.sk-estimator input.sk-toggleable__control:checked~label.sk-toggleable__label {background-color: #d4ebff;}#sk-container-id-4 div.sk-label input.sk-toggleable__control:checked~label.sk-toggleable__label {background-color: #d4ebff;}#sk-container-id-4 input.sk-hidden--visually {border: 0;clip: rect(1px 1px 1px 1px);clip: rect(1px, 1px, 1px, 1px);height: 1px;margin: -1px;overflow: hidden;padding: 0;position: absolute;width: 1px;}#sk-container-id-4 div.sk-estimator {font-family: monospace;background-color: #f0f8ff;border: 1px dotted black;border-radius: 0.25em;box-sizing: border-box;margin-bottom: 0.5em;}#sk-container-id-4 div.sk-estimator:hover {background-color: #d4ebff;}#sk-container-id-4 div.sk-parallel-item::after {content: \"\";width: 100%;border-bottom: 1px solid gray;flex-grow: 1;}#sk-container-id-4 div.sk-label:hover label.sk-toggleable__label {background-color: #d4ebff;}#sk-container-id-4 div.sk-serial::before {content: \"\";position: absolute;border-left: 1px solid gray;box-sizing: border-box;top: 0;bottom: 0;left: 50%;z-index: 0;}#sk-container-id-4 div.sk-serial {display: flex;flex-direction: column;align-items: center;background-color: white;padding-right: 0.2em;padding-left: 0.2em;position: relative;}#sk-container-id-4 div.sk-item {position: relative;z-index: 1;}#sk-container-id-4 div.sk-parallel {display: flex;align-items: stretch;justify-content: center;background-color: white;position: relative;}#sk-container-id-4 div.sk-item::before, #sk-container-id-4 div.sk-parallel-item::before {content: \"\";position: absolute;border-left: 1px solid gray;box-sizing: border-box;top: 0;bottom: 0;left: 50%;z-index: -1;}#sk-container-id-4 div.sk-parallel-item {display: flex;flex-direction: column;z-index: 1;position: relative;background-color: white;}#sk-container-id-4 div.sk-parallel-item:first-child::after {align-self: flex-end;width: 50%;}#sk-container-id-4 div.sk-parallel-item:last-child::after {align-self: flex-start;width: 50%;}#sk-container-id-4 div.sk-parallel-item:only-child::after {width: 0;}#sk-container-id-4 div.sk-dashed-wrapped {border: 1px dashed gray;margin: 0 0.4em 0.5em 0.4em;box-sizing: border-box;padding-bottom: 0.4em;background-color: white;}#sk-container-id-4 div.sk-label label {font-family: monospace;font-weight: bold;display: inline-block;line-height: 1.2em;}#sk-container-id-4 div.sk-label-container {text-align: center;}#sk-container-id-4 div.sk-container {/* jupyter's `normalize.less` sets `[hidden] { display: none; }` but bootstrap.min.css set `[hidden] { display: none !important; }` so we also need the `!important` here to be able to override the default hidden behavior on the sphinx rendered scikit-learn.org. See: https://github.com/scikit-learn/scikit-learn/issues/21755 */display: inline-block !important;position: relative;}#sk-container-id-4 div.sk-text-repr-fallback {display: none;}</style><div id=\"sk-container-id-4\" class=\"sk-top-container\"><div class=\"sk-text-repr-fallback\"><pre>RandomForestRegressor()</pre><b>In a Jupyter environment, please rerun this cell to show the HTML representation or trust the notebook. <br />On GitHub, the HTML representation is unable to render, please try loading this page with nbviewer.org.</b></div><div class=\"sk-container\" hidden><div class=\"sk-item\"><div class=\"sk-estimator sk-toggleable\"><input class=\"sk-toggleable__control sk-hidden--visually\" id=\"sk-estimator-id-6\" type=\"checkbox\" checked><label for=\"sk-estimator-id-6\" class=\"sk-toggleable__label sk-toggleable__label-arrow\">RandomForestRegressor</label><div class=\"sk-toggleable__content\"><pre>RandomForestRegressor()</pre></div></div></div></div></div>"
      ],
      "text/plain": [
       "RandomForestRegressor()"
      ]
     },
     "execution_count": 24,
     "metadata": {},
     "output_type": "execute_result"
    }
   ],
   "source": [
    "Forest=RandomForestRegressor()\n",
    "Forest.fit(xtrain,ytrain)"
   ]
  },
  {
   "cell_type": "code",
   "execution_count": 25,
   "id": "f999ccc7-5e2b-47df-b8ec-834bfac7bfe2",
   "metadata": {
    "tags": []
   },
   "outputs": [
    {
     "data": {
      "text/plain": [
       "array([946153.98, 535192.33, 600489.15, ..., 620040.  , 531452.84,\n",
       "       192574.28])"
      ]
     },
     "execution_count": 25,
     "metadata": {},
     "output_type": "execute_result"
    }
   ],
   "source": [
    "## testing the data set.\n",
    "pred3=Forest.predict(xtest)\n",
    "pred3"
   ]
  },
  {
   "cell_type": "code",
   "execution_count": 26,
   "id": "2c72060c-c4c9-4e7d-98e3-8921d1037ed4",
   "metadata": {
    "tags": []
   },
   "outputs": [
    {
     "name": "stdout",
     "output_type": "stream",
     "text": [
      "MAE 143165.27892978524\n",
      "MAPE 0.37643943527218354\n",
      "MsE 221637636344.4847\n",
      "R2 SCORE 0.7347165666567022\n"
     ]
    }
   ],
   "source": [
    "## checking how our model perform usin any of these from sklearn.metrics import r2_score, mean_absolute_error, mean_absolute_percentage_error, mean_squared_error\n",
    "print(\"MAE\",mean_absolute_error(ytest, pred3))\n",
    "print(\"MAPE\",mean_absolute_percentage_error (ytest,pred3))\n",
    "print(\"MsE\",mean_squared_error (ytest,pred3))\n",
    "print(\"R2 SCORE\",r2_score(ytest,pred3))"
   ]
  },
  {
   "cell_type": "code",
   "execution_count": 27,
   "id": "0c499677-c09a-40cc-822b-396a155459e7",
   "metadata": {
    "tags": []
   },
   "outputs": [
    {
     "data": {
      "text/html": [
       "<div>\n",
       "<style scoped>\n",
       "    .dataframe tbody tr th:only-of-type {\n",
       "        vertical-align: middle;\n",
       "    }\n",
       "\n",
       "    .dataframe tbody tr th {\n",
       "        vertical-align: top;\n",
       "    }\n",
       "\n",
       "    .dataframe thead th {\n",
       "        text-align: right;\n",
       "    }\n",
       "</style>\n",
       "<table border=\"1\" class=\"dataframe\">\n",
       "  <thead>\n",
       "    <tr style=\"text-align: right;\">\n",
       "      <th></th>\n",
       "      <th>Actual price</th>\n",
       "      <th>Predicted price</th>\n",
       "    </tr>\n",
       "  </thead>\n",
       "  <tbody>\n",
       "    <tr>\n",
       "      <th>33280</th>\n",
       "      <td>959000.0</td>\n",
       "      <td>946153.98</td>\n",
       "    </tr>\n",
       "    <tr>\n",
       "      <th>21569</th>\n",
       "      <td>650000.0</td>\n",
       "      <td>535192.33</td>\n",
       "    </tr>\n",
       "    <tr>\n",
       "      <th>33018</th>\n",
       "      <td>700000.0</td>\n",
       "      <td>600489.15</td>\n",
       "    </tr>\n",
       "    <tr>\n",
       "      <th>1305</th>\n",
       "      <td>329900.0</td>\n",
       "      <td>409381.98</td>\n",
       "    </tr>\n",
       "    <tr>\n",
       "      <th>30217</th>\n",
       "      <td>498750.0</td>\n",
       "      <td>347694.08</td>\n",
       "    </tr>\n",
       "    <tr>\n",
       "      <th>...</th>\n",
       "      <td>...</td>\n",
       "      <td>...</td>\n",
       "    </tr>\n",
       "    <tr>\n",
       "      <th>23066</th>\n",
       "      <td>265000.0</td>\n",
       "      <td>277482.97</td>\n",
       "    </tr>\n",
       "    <tr>\n",
       "      <th>15574</th>\n",
       "      <td>165000.0</td>\n",
       "      <td>234831.42</td>\n",
       "    </tr>\n",
       "    <tr>\n",
       "      <th>18753</th>\n",
       "      <td>775000.0</td>\n",
       "      <td>620040.00</td>\n",
       "    </tr>\n",
       "    <tr>\n",
       "      <th>39015</th>\n",
       "      <td>525000.0</td>\n",
       "      <td>531452.84</td>\n",
       "    </tr>\n",
       "    <tr>\n",
       "      <th>22908</th>\n",
       "      <td>229900.0</td>\n",
       "      <td>192574.28</td>\n",
       "    </tr>\n",
       "  </tbody>\n",
       "</table>\n",
       "<p>7997 rows × 2 columns</p>\n",
       "</div>"
      ],
      "text/plain": [
       "       Actual price  Predicted price\n",
       "33280      959000.0        946153.98\n",
       "21569      650000.0        535192.33\n",
       "33018      700000.0        600489.15\n",
       "1305       329900.0        409381.98\n",
       "30217      498750.0        347694.08\n",
       "...             ...              ...\n",
       "23066      265000.0        277482.97\n",
       "15574      165000.0        234831.42\n",
       "18753      775000.0        620040.00\n",
       "39015      525000.0        531452.84\n",
       "22908      229900.0        192574.28\n",
       "\n",
       "[7997 rows x 2 columns]"
      ]
     },
     "execution_count": 27,
     "metadata": {},
     "output_type": "execute_result"
    }
   ],
   "source": [
    "## to check how poor the prediction above is.\n",
    "\n",
    "OUTCOME = {\n",
    "    \"Actual price\":ytest,\n",
    "    \"Predicted price\":pred3\n",
    "}\n",
    "df3=pd.DataFrame(OUTCOME)\n",
    "df3"
   ]
  },
  {
   "cell_type": "code",
   "execution_count": 28,
   "id": "2ca3272e-5728-4d19-9103-63e760f43071",
   "metadata": {
    "tags": []
   },
   "outputs": [
    {
     "data": {
      "text/plain": [
       "<Axes: xlabel='Price'>"
      ]
     },
     "execution_count": 28,
     "metadata": {},
     "output_type": "execute_result"
    },
    {
     "data": {
      "image/png": "[encoded data removed]",
      "text/plain": [
       "<Figure size 640x480 with 1 Axes>"
      ]
     },
     "metadata": {},
     "output_type": "display_data"
    }
   ],
   "source": [
    "## SHOWING HOW THE REGRESSION WORK\n",
    "sns.regplot(x=ytest, y=pred1)"
   ]
  },
  {
   "cell_type": "code",
   "execution_count": 29,
   "id": "633c7c4c-bb92-4949-9fa3-a9a7b9fbf044",
   "metadata": {
    "tags": []
   },
   "outputs": [
    {
     "data": {
      "text/plain": [
       "<Axes: xlabel='Price'>"
      ]
     },
     "execution_count": 29,
     "metadata": {},
     "output_type": "execute_result"
    },
    {
     "data": {
      "image/png": "[encoded data removed]",
      "text/plain": [
       "<Figure size 640x480 with 1 Axes>"
      ]
     },
     "metadata": {},
     "output_type": "display_data"
    }
   ],
   "source": [
    "sns.regplot(x=ytest, y=pred2)"
   ]
  },
  {
   "cell_type": "code",
   "execution_count": 30,
   "id": "f384c799-5558-404f-9578-a6db2288e52c",
   "metadata": {
    "tags": []
   },
   "outputs": [
    {
     "data": {
      "text/plain": [
       "<Axes: xlabel='Price'>"
      ]
     },
     "execution_count": 30,
     "metadata": {},
     "output_type": "execute_result"
    },
    {
     "data": {
      "image/png": "[encoded data removed]",
      "text/plain": [
       "<Figure size 640x480 with 1 Axes>"
      ]
     },
     "metadata": {},
     "output_type": "display_data"
    }
   ],
   "source": [
    "sns.regplot(x=ytest, y=pred3)"
   ]
  },
  {
   "cell_type": "code",
   "execution_count": null,
   "id": "198d9d08-3501-4c13-abcc-a4bfb2ef3a18",
   "metadata": {},
   "outputs": [],
   "source": []
  }
 ],
 "metadata": {
  "kernelspec": {
   "display_name": "Python 3 (ipykernel)",
   "language": "python",
   "name": "python3"
  },
  "language_info": {
   "codemirror_mode": {
    "name": "ipython",
    "version": 3
   },
   "file_extension": ".py",
   "mimetype": "text/x-python",
   "name": "python",
   "nbconvert_exporter": "python",
   "pygments_lexer": "ipython3",
   "version": "3.11.5"
  }
 },
 "nbformat": 4,
 "nbformat_minor": 5
}
